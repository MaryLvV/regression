{
 "cells": [
  {
   "cell_type": "markdown",
   "metadata": {
    "slideshow": {
     "slide_type": "slide"
    }
   },
   "source": [
    "<div align=\"center\">\n",
    "    <h1>Regression Gone Wrong</h1>\n",
    "    <h2>@maxhumber</h2>\n",
    "    <h4>Boston • ODSC • May 2, 2019</h4>\n",
    "</div>"
   ]
  },
  {
   "cell_type": "markdown",
   "metadata": {
    "slideshow": {
     "slide_type": "slide"
    }
   },
   "source": [
    "<div align=\"center\">\n",
    "    <img src=\"images/ymxb.png\" height=\"600\" width=\"600\">\n",
    "</div>"
   ]
  },
  {
   "cell_type": "markdown",
   "metadata": {
    "slideshow": {
     "slide_type": "slide"
    }
   },
   "source": [
    "<div align=\"center\">\n",
    "    <img src=\"images/datalol.png\" height=\"500\" width=\"500\">\n",
    "</div>"
   ]
  },
  {
   "cell_type": "markdown",
   "metadata": {
    "slideshow": {
     "slide_type": "slide"
    }
   },
   "source": [
    "<div align=\"center\">\n",
    "    <img src=\"images/titanic.jpg\" height=\"500\" width=\"500\">\n",
    "</div>"
   ]
  },
  {
   "cell_type": "markdown",
   "metadata": {
    "slideshow": {
     "slide_type": "slide"
    }
   },
   "source": [
    "<div align=\"center\">\n",
    "    <img src=\"images/hockey_clipart.jpg\" height=\"500\" width=\"500\">\n",
    "</div>"
   ]
  },
  {
   "cell_type": "markdown",
   "metadata": {
    "slideshow": {
     "slide_type": "slide"
    }
   },
   "source": [
    "<div align=\"center\">\n",
    "    <img src=\"images/toronto.jpg\" height=\"800\" width=\"800\">\n",
    "</div>"
   ]
  },
  {
   "cell_type": "markdown",
   "metadata": {
    "slideshow": {
     "slide_type": "slide"
    }
   },
   "source": [
    "<div align=\"center\">\n",
    "    <img src=\"images/bruins.jpg\" height=\"700\" width=\"700\">\n",
    "</div>"
   ]
  },
  {
   "cell_type": "markdown",
   "metadata": {
    "slideshow": {
     "slide_type": "slide"
    }
   },
   "source": [
    "<div align=\"center\">\n",
    "    <img src=\"images/leafs_ice.jpg\" height=\"600\" width=\"600\">\n",
    "</div>"
   ]
  },
  {
   "cell_type": "markdown",
   "metadata": {
    "slideshow": {
     "slide_type": "slide"
    }
   },
   "source": [
    "<div align=\"center\">\n",
    "    <b><font size=\"+10\">Regression 101</font></b>\n",
    "</div>"
   ]
  },
  {
   "cell_type": "code",
   "execution_count": 1,
   "metadata": {
    "slideshow": {
     "slide_type": "slide"
    }
   },
   "outputs": [],
   "source": [
    "# step 1:\n",
    "import pandas as pd"
   ]
  },
  {
   "cell_type": "code",
   "execution_count": 2,
   "metadata": {
    "slideshow": {
     "slide_type": "fragment"
    }
   },
   "outputs": [],
   "source": [
    "# step 2 - drop NAs:\n",
    "df = pd.read_csv('data/skaters.csv')\n",
    "columns = ['name', 'age', 'position', 'goals', 'assists', 'plus_minus', 'shots_on_goal', 'blocks', 'hits']\n",
    "df = df[columns].dropna()"
   ]
  },
  {
   "cell_type": "code",
   "execution_count": 3,
   "metadata": {
    "scrolled": true,
    "slideshow": {
     "slide_type": "slide"
    }
   },
   "outputs": [
    {
     "data": {
      "text/html": [
       "<table border=\"1\" class=\"dataframe table table-responsive table-striped table-bordered\">\n",
       "  <thead>\n",
       "    <tr style=\"text-align: right;\">\n",
       "      <th>name</th>\n",
       "      <th>age</th>\n",
       "      <th>position</th>\n",
       "      <th>goals</th>\n",
       "      <th>assists</th>\n",
       "      <th>plus_minus</th>\n",
       "      <th>shots_on_goal</th>\n",
       "      <th>blocks</th>\n",
       "      <th>hits</th>\n",
       "    </tr>\n",
       "  </thead>\n",
       "  <tbody>\n",
       "    <tr>\n",
       "      <td>Josh Bailey</td>\n",
       "      <td>26.0</td>\n",
       "      <td>C</td>\n",
       "      <td>12</td>\n",
       "      <td>20</td>\n",
       "      <td>-7</td>\n",
       "      <td>105</td>\n",
       "      <td>25.0</td>\n",
       "      <td>45.0</td>\n",
       "    </tr>\n",
       "    <tr>\n",
       "      <td>Mathieu Perreault</td>\n",
       "      <td>25.0</td>\n",
       "      <td>C</td>\n",
       "      <td>6</td>\n",
       "      <td>11</td>\n",
       "      <td>7</td>\n",
       "      <td>47</td>\n",
       "      <td>8.0</td>\n",
       "      <td>28.0</td>\n",
       "    </tr>\n",
       "    <tr>\n",
       "      <td>Cal Clutterbuck</td>\n",
       "      <td>30.0</td>\n",
       "      <td>RW</td>\n",
       "      <td>8</td>\n",
       "      <td>10</td>\n",
       "      <td>-7</td>\n",
       "      <td>101</td>\n",
       "      <td>53.0</td>\n",
       "      <td>226.0</td>\n",
       "    </tr>\n",
       "    <tr>\n",
       "      <td>Lars Eller</td>\n",
       "      <td>24.0</td>\n",
       "      <td>C</td>\n",
       "      <td>12</td>\n",
       "      <td>14</td>\n",
       "      <td>-15</td>\n",
       "      <td>137</td>\n",
       "      <td>58.0</td>\n",
       "      <td>130.0</td>\n",
       "    </tr>\n",
       "    <tr>\n",
       "      <td>Patrick Eaves</td>\n",
       "      <td>31.0</td>\n",
       "      <td>RW</td>\n",
       "      <td>11</td>\n",
       "      <td>6</td>\n",
       "      <td>-5</td>\n",
       "      <td>86</td>\n",
       "      <td>20.0</td>\n",
       "      <td>70.0</td>\n",
       "    </tr>\n",
       "  </tbody>\n",
       "</table>"
      ],
      "text/plain": [
       "<IPython.core.display.HTML object>"
      ]
     },
     "execution_count": 3,
     "metadata": {},
     "output_type": "execute_result"
    }
   ],
   "source": [
    "from IPython.core.display import HTML\n",
    "\n",
    "def display(df, index=False):\n",
    "    return HTML(df.to_html(\n",
    "        index=index,\n",
    "        classes='table table-responsive table-striped table-bordered'\n",
    "    ))\n",
    "\n",
    "display(df.sample(5))"
   ]
  },
  {
   "cell_type": "code",
   "execution_count": 4,
   "metadata": {
    "slideshow": {
     "slide_type": "slide"
    }
   },
   "outputs": [],
   "source": [
    "# step 3 - target:\n",
    "y = df['goals']\n",
    "X = df[['age', 'assists', 'plus_minus', 'shots_on_goal', 'blocks', 'hits']]"
   ]
  },
  {
   "cell_type": "code",
   "execution_count": 5,
   "metadata": {
    "slideshow": {
     "slide_type": "fragment"
    }
   },
   "outputs": [],
   "source": [
    "# step 4:\n",
    "from sklearn.model_selection import train_test_split\n",
    "X_train, X_test, y_train, y_test = train_test_split(\n",
    "    X, y, test_size=0.2, random_state=1993)"
   ]
  },
  {
   "cell_type": "code",
   "execution_count": 6,
   "metadata": {
    "slideshow": {
     "slide_type": "slide"
    }
   },
   "outputs": [],
   "source": [
    "# step 5:\n",
    "from sklearn.linear_model import LinearRegression"
   ]
  },
  {
   "cell_type": "code",
   "execution_count": 7,
   "metadata": {
    "slideshow": {
     "slide_type": "fragment"
    }
   },
   "outputs": [],
   "source": [
    "# step 6:\n",
    "model = LinearRegression()"
   ]
  },
  {
   "cell_type": "code",
   "execution_count": 8,
   "metadata": {
    "slideshow": {
     "slide_type": "fragment"
    }
   },
   "outputs": [
    {
     "data": {
      "text/plain": [
       "LinearRegression(copy_X=True, fit_intercept=True, n_jobs=None,\n",
       "         normalize=False)"
      ]
     },
     "execution_count": 8,
     "metadata": {},
     "output_type": "execute_result"
    }
   ],
   "source": [
    "# step 7:\n",
    "model.fit(X_train, y_train)"
   ]
  },
  {
   "cell_type": "code",
   "execution_count": 9,
   "metadata": {
    "slideshow": {
     "slide_type": "fragment"
    }
   },
   "outputs": [],
   "source": [
    "# step 8:\n",
    "y_hat = model.predict(X_test)"
   ]
  },
  {
   "cell_type": "code",
   "execution_count": 10,
   "metadata": {
    "slideshow": {
     "slide_type": "slide"
    }
   },
   "outputs": [
    {
     "name": "stdout",
     "output_type": "stream",
     "text": [
      "R^2: 0.81\n",
      "MAE: 2.96\n"
     ]
    }
   ],
   "source": [
    "# step 9:\n",
    "from sklearn.metrics import r2_score, mean_absolute_error\n",
    "print(f'R^2: {r2_score(y_test, y_hat):.2f}')\n",
    "print(f'MAE: {mean_absolute_error(y_test, y_hat):.2f}')"
   ]
  },
  {
   "cell_type": "code",
   "execution_count": 11,
   "metadata": {
    "slideshow": {
     "slide_type": "slide"
    }
   },
   "outputs": [
    {
     "data": {
      "image/png": "[encoded data removed]",
      "text/plain": [
       "<Figure size 576x360 with 1 Axes>"
      ]
     },
     "metadata": {
      "needs_background": "light"
     },
     "output_type": "display_data"
    }
   ],
   "source": [
    "from matplotlib import pyplot as plt\n",
    "%matplotlib inline\n",
    "\n",
    "plt.figure(figsize=(8, 5))\n",
    "plt.scatter(y_test, y_hat, alpha=1/5)\n",
    "plt.plot([0, 50], [0, 50], c='r');"
   ]
  },
  {
   "cell_type": "code",
   "execution_count": 12,
   "metadata": {
    "slideshow": {
     "slide_type": "slide"
    }
   },
   "outputs": [
    {
     "data": {
      "text/html": [
       "<table border=\"1\" class=\"dataframe table table-responsive table-striped table-bordered\">\n",
       "  <thead>\n",
       "    <tr style=\"text-align: right;\">\n",
       "      <th>name</th>\n",
       "      <th>age</th>\n",
       "      <th>position</th>\n",
       "      <th>goals</th>\n",
       "      <th>assists</th>\n",
       "      <th>plus_minus</th>\n",
       "      <th>shots_on_goal</th>\n",
       "      <th>blocks</th>\n",
       "      <th>hits</th>\n",
       "    </tr>\n",
       "  </thead>\n",
       "  <tbody>\n",
       "    <tr>\n",
       "      <td>Paul Stastny</td>\n",
       "      <td>30.0</td>\n",
       "      <td>C</td>\n",
       "      <td>10</td>\n",
       "      <td>39</td>\n",
       "      <td>3</td>\n",
       "      <td>103</td>\n",
       "      <td>40.0</td>\n",
       "      <td>32.0</td>\n",
       "    </tr>\n",
       "    <tr>\n",
       "      <td>Rasmus Ristolainen</td>\n",
       "      <td>23.0</td>\n",
       "      <td>D</td>\n",
       "      <td>6</td>\n",
       "      <td>35</td>\n",
       "      <td>-25</td>\n",
       "      <td>182</td>\n",
       "      <td>111.0</td>\n",
       "      <td>206.0</td>\n",
       "    </tr>\n",
       "    <tr>\n",
       "      <td>Jean-Gabriel Pageau</td>\n",
       "      <td>23.0</td>\n",
       "      <td>C</td>\n",
       "      <td>19</td>\n",
       "      <td>24</td>\n",
       "      <td>17</td>\n",
       "      <td>133</td>\n",
       "      <td>60.0</td>\n",
       "      <td>166.0</td>\n",
       "    </tr>\n",
       "    <tr>\n",
       "      <td>Justin Bailey</td>\n",
       "      <td>20.0</td>\n",
       "      <td>RW</td>\n",
       "      <td>0</td>\n",
       "      <td>0</td>\n",
       "      <td>-2</td>\n",
       "      <td>22</td>\n",
       "      <td>6.0</td>\n",
       "      <td>8.0</td>\n",
       "    </tr>\n",
       "    <tr>\n",
       "      <td>Brayden Schenn</td>\n",
       "      <td>21.0</td>\n",
       "      <td>C</td>\n",
       "      <td>8</td>\n",
       "      <td>18</td>\n",
       "      <td>-8</td>\n",
       "      <td>79</td>\n",
       "      <td>22.0</td>\n",
       "      <td>109.0</td>\n",
       "    </tr>\n",
       "  </tbody>\n",
       "</table>"
      ],
      "text/plain": [
       "<IPython.core.display.HTML object>"
      ]
     },
     "execution_count": 12,
     "metadata": {},
     "output_type": "execute_result"
    }
   ],
   "source": [
    "display(df.sample(5))"
   ]
  },
  {
   "cell_type": "markdown",
   "metadata": {
    "slideshow": {
     "slide_type": "slide"
    }
   },
   "source": [
    "<h1>My model...</h1>\n",
    "<ol>\n",
    "    <li>can't accept new data...</li>\n",
    "    <li>isn't benchmarked...</li>\n",
    "    <li><i>maybe</i> isn't using the right algorithm...</li>\n",
    "</ol>"
   ]
  },
  {
   "cell_type": "markdown",
   "metadata": {
    "slideshow": {
     "slide_type": "slide"
    }
   },
   "source": [
    "<div align=\"center\">\n",
    "    <img src=\"https://media.giphy.com/media/Bw7fyRylzteWk/giphy.gif\" height=\"600\" width=\"600\">\n",
    "</div>"
   ]
  },
  {
   "cell_type": "markdown",
   "metadata": {
    "slideshow": {
     "slide_type": "slide"
    }
   },
   "source": [
    "<br>\n",
    "<div align=\"center\">\n",
    "    <b><font size=\"+10\">#YouSuckAtRegression</font></b>\n",
    "</div>\n",
    "<br>\n",
    "<div align=\"center\">\n",
    "    <img src=\"https://i.imgur.com/GfJNU68.gif\" height=\"600\" width=\"600\">\n",
    "</div>"
   ]
  },
  {
   "cell_type": "markdown",
   "metadata": {
    "slideshow": {
     "slide_type": "slide"
    }
   },
   "source": [
    "<h1>Models</h1>\n",
    "<ol>\n",
    "    <li>Multiple Output Regression...</li>\n",
    "    <li>Ordinal Regression...</li>\n",
    "    <li>Poisson Regression...</li>\n",
    "</ol>"
   ]
  },
  {
   "cell_type": "markdown",
   "metadata": {
    "slideshow": {
     "slide_type": "fragment"
    }
   },
   "source": [
    "<h1>Problems</h1>\n",
    "<ol>\n",
    "    <li>...Next Year</li>\n",
    "    <li>...Diamonds in the Rough</li>\n",
    "    <li>...Over/Under</li>\n",
    "</ol>"
   ]
  },
  {
   "cell_type": "markdown",
   "metadata": {
    "slideshow": {
     "slide_type": "slide"
    }
   },
   "source": [
    "<div align=\"center\">\n",
    "    <h1>Multiple Output Regression</h1>\n",
    "</div>"
   ]
  },
  {
   "cell_type": "markdown",
   "metadata": {
    "slideshow": {
     "slide_type": "slide"
    }
   },
   "source": [
    "<div align=\"center\">\n",
    "    <img src=\"images/prediction_machine.png\" height=\"600\" width=\"600\">\n",
    "</div>"
   ]
  },
  {
   "cell_type": "code",
   "execution_count": 13,
   "metadata": {
    "slideshow": {
     "slide_type": "slide"
    }
   },
   "outputs": [],
   "source": [
    "import pandas as pd \n",
    "\n",
    "df = pd.read_csv('data/skaters.csv')\n",
    "# quick clean\n",
    "df['season_start'] = df['season'].apply(lambda x: int(x[:4]))\n",
    "df = df.query('season_start >= 2007')\n",
    "df['position'] = df['position'].apply(\n",
    "    lambda x: 'Multiple' if '/' in x else x)"
   ]
  },
  {
   "cell_type": "code",
   "execution_count": 14,
   "metadata": {
    "slideshow": {
     "slide_type": "fragment"
    }
   },
   "outputs": [],
   "source": [
    "Y_columns = [\n",
    "    'goals', 'assists', 'plus_minus', \n",
    "    'shots_on_goal', 'blocks', 'hits']\n",
    "X_columns = ['position', 'age'] + Y_columns"
   ]
  },
  {
   "cell_type": "code",
   "execution_count": 15,
   "metadata": {
    "slideshow": {
     "slide_type": "slide"
    }
   },
   "outputs": [
    {
     "data": {
      "text/html": [
       "<table border=\"1\" class=\"dataframe table table-responsive table-striped table-bordered\">\n",
       "  <thead>\n",
       "    <tr style=\"text-align: right;\">\n",
       "      <th>name</th>\n",
       "      <th>season</th>\n",
       "      <th>position</th>\n",
       "      <th>age</th>\n",
       "      <th>goals</th>\n",
       "      <th>assists</th>\n",
       "      <th>plus_minus</th>\n",
       "      <th>shots_on_goal</th>\n",
       "      <th>blocks</th>\n",
       "      <th>hits</th>\n",
       "    </tr>\n",
       "  </thead>\n",
       "  <tbody>\n",
       "    <tr>\n",
       "      <td>Mitch Marner</td>\n",
       "      <td>2016-17</td>\n",
       "      <td>C</td>\n",
       "      <td>19.0</td>\n",
       "      <td>19</td>\n",
       "      <td>42</td>\n",
       "      <td>0</td>\n",
       "      <td>176</td>\n",
       "      <td>39.0</td>\n",
       "      <td>41.0</td>\n",
       "    </tr>\n",
       "    <tr>\n",
       "      <td>Mitch Marner</td>\n",
       "      <td>2017-18</td>\n",
       "      <td>C</td>\n",
       "      <td>20.0</td>\n",
       "      <td>22</td>\n",
       "      <td>47</td>\n",
       "      <td>-1</td>\n",
       "      <td>194</td>\n",
       "      <td>25.0</td>\n",
       "      <td>31.0</td>\n",
       "    </tr>\n",
       "    <tr>\n",
       "      <td>Mitch Marner</td>\n",
       "      <td>2018-19</td>\n",
       "      <td>C</td>\n",
       "      <td>21.0</td>\n",
       "      <td>26</td>\n",
       "      <td>68</td>\n",
       "      <td>22</td>\n",
       "      <td>233</td>\n",
       "      <td>43.0</td>\n",
       "      <td>29.0</td>\n",
       "    </tr>\n",
       "  </tbody>\n",
       "</table>"
      ],
      "text/plain": [
       "<IPython.core.display.HTML object>"
      ]
     },
     "execution_count": 15,
     "metadata": {},
     "output_type": "execute_result"
    }
   ],
   "source": [
    "display(\n",
    "    df[['name', 'season'] + X_columns]\n",
    "    .query('name == \"Mitch Marner\"')\n",
    ")"
   ]
  },
  {
   "cell_type": "code",
   "execution_count": 16,
   "metadata": {
    "slideshow": {
     "slide_type": "slide"
    }
   },
   "outputs": [],
   "source": [
    "# shift everything by a year \n",
    "Y = df.groupby('id')[Y_columns].shift(-1)\n",
    "X = df[X_columns]\n",
    "# drop out dangling Y rows...\n",
    "X = X[~pd.isnull(Y).any(axis=1)]\n",
    "Y = Y.dropna()\n",
    "# reset index\n",
    "Y = Y.reset_index(drop=True)\n",
    "X = X.reset_index(drop=True)"
   ]
  },
  {
   "cell_type": "code",
   "execution_count": 17,
   "metadata": {
    "slideshow": {
     "slide_type": "slide"
    }
   },
   "outputs": [
    {
     "data": {
      "text/html": [
       "<table border=\"1\" class=\"dataframe table table-responsive table-striped table-bordered\">\n",
       "  <thead>\n",
       "    <tr style=\"text-align: right;\">\n",
       "      <th></th>\n",
       "      <th>position</th>\n",
       "      <th>age</th>\n",
       "      <th>goals</th>\n",
       "      <th>assists</th>\n",
       "      <th>plus_minus</th>\n",
       "      <th>shots_on_goal</th>\n",
       "      <th>blocks</th>\n",
       "      <th>hits</th>\n",
       "    </tr>\n",
       "  </thead>\n",
       "  <tbody>\n",
       "    <tr>\n",
       "      <th>0</th>\n",
       "      <td>C</td>\n",
       "      <td>22.0</td>\n",
       "      <td>0</td>\n",
       "      <td>3</td>\n",
       "      <td>2</td>\n",
       "      <td>9</td>\n",
       "      <td>2.0</td>\n",
       "      <td>0.0</td>\n",
       "    </tr>\n",
       "    <tr>\n",
       "      <th>1</th>\n",
       "      <td>D</td>\n",
       "      <td>23.0</td>\n",
       "      <td>0</td>\n",
       "      <td>3</td>\n",
       "      <td>-2</td>\n",
       "      <td>12</td>\n",
       "      <td>9.0</td>\n",
       "      <td>6.0</td>\n",
       "    </tr>\n",
       "    <tr>\n",
       "      <th>2</th>\n",
       "      <td>C</td>\n",
       "      <td>18.0</td>\n",
       "      <td>18</td>\n",
       "      <td>34</td>\n",
       "      <td>-2</td>\n",
       "      <td>134</td>\n",
       "      <td>33.0</td>\n",
       "      <td>38.0</td>\n",
       "    </tr>\n",
       "    <tr>\n",
       "      <th>3</th>\n",
       "      <td>C</td>\n",
       "      <td>19.0</td>\n",
       "      <td>4</td>\n",
       "      <td>20</td>\n",
       "      <td>3</td>\n",
       "      <td>78</td>\n",
       "      <td>27.0</td>\n",
       "      <td>27.0</td>\n",
       "    </tr>\n",
       "    <tr>\n",
       "      <th>4</th>\n",
       "      <td>C</td>\n",
       "      <td>20.0</td>\n",
       "      <td>19</td>\n",
       "      <td>37</td>\n",
       "      <td>-12</td>\n",
       "      <td>178</td>\n",
       "      <td>35.0</td>\n",
       "      <td>72.0</td>\n",
       "    </tr>\n",
       "  </tbody>\n",
       "</table>"
      ],
      "text/plain": [
       "<IPython.core.display.HTML object>"
      ]
     },
     "execution_count": 17,
     "metadata": {},
     "output_type": "execute_result"
    }
   ],
   "source": [
    "display(X.head(), index=True)"
   ]
  },
  {
   "cell_type": "code",
   "execution_count": 18,
   "metadata": {
    "slideshow": {
     "slide_type": "fragment"
    }
   },
   "outputs": [
    {
     "data": {
      "text/html": [
       "<table border=\"1\" class=\"dataframe table table-responsive table-striped table-bordered\">\n",
       "  <thead>\n",
       "    <tr style=\"text-align: right;\">\n",
       "      <th></th>\n",
       "      <th>goals</th>\n",
       "      <th>assists</th>\n",
       "      <th>plus_minus</th>\n",
       "      <th>shots_on_goal</th>\n",
       "      <th>blocks</th>\n",
       "      <th>hits</th>\n",
       "    </tr>\n",
       "  </thead>\n",
       "  <tbody>\n",
       "    <tr>\n",
       "      <th>0</th>\n",
       "      <td>0.0</td>\n",
       "      <td>8.0</td>\n",
       "      <td>2.0</td>\n",
       "      <td>52.0</td>\n",
       "      <td>10.0</td>\n",
       "      <td>3.0</td>\n",
       "    </tr>\n",
       "    <tr>\n",
       "      <th>1</th>\n",
       "      <td>0.0</td>\n",
       "      <td>6.0</td>\n",
       "      <td>9.0</td>\n",
       "      <td>42.0</td>\n",
       "      <td>35.0</td>\n",
       "      <td>33.0</td>\n",
       "    </tr>\n",
       "    <tr>\n",
       "      <th>2</th>\n",
       "      <td>4.0</td>\n",
       "      <td>20.0</td>\n",
       "      <td>3.0</td>\n",
       "      <td>78.0</td>\n",
       "      <td>27.0</td>\n",
       "      <td>27.0</td>\n",
       "    </tr>\n",
       "    <tr>\n",
       "      <th>3</th>\n",
       "      <td>19.0</td>\n",
       "      <td>37.0</td>\n",
       "      <td>-12.0</td>\n",
       "      <td>178.0</td>\n",
       "      <td>35.0</td>\n",
       "      <td>72.0</td>\n",
       "    </tr>\n",
       "    <tr>\n",
       "      <th>4</th>\n",
       "      <td>24.0</td>\n",
       "      <td>32.0</td>\n",
       "      <td>-12.0</td>\n",
       "      <td>189.0</td>\n",
       "      <td>37.0</td>\n",
       "      <td>92.0</td>\n",
       "    </tr>\n",
       "  </tbody>\n",
       "</table>"
      ],
      "text/plain": [
       "<IPython.core.display.HTML object>"
      ]
     },
     "execution_count": 18,
     "metadata": {},
     "output_type": "execute_result"
    }
   ],
   "source": [
    "display(Y.head(), index=True)"
   ]
  },
  {
   "cell_type": "code",
   "execution_count": 19,
   "metadata": {
    "slideshow": {
     "slide_type": "slide"
    }
   },
   "outputs": [],
   "source": [
    "X_train, X_test, Y_train, Y_test = (\n",
    "    train_test_split(X, Y, test_size=0.2, random_state=42)\n",
    ")"
   ]
  },
  {
   "cell_type": "markdown",
   "metadata": {
    "slideshow": {
     "slide_type": "slide"
    }
   },
   "source": [
    "<div align=\"center\">\n",
    "    <img src=\"images/secret_sauce.jpg\" height=\"600\" width=\"600\">\n",
    "</div>"
   ]
  },
  {
   "cell_type": "code",
   "execution_count": 20,
   "metadata": {
    "slideshow": {
     "slide_type": "slide"
    }
   },
   "outputs": [],
   "source": [
    "from sklearn_pandas import DataFrameMapper, CategoricalImputer\n",
    "from sklearn.preprocessing import PolynomialFeatures, LabelBinarizer\n",
    "from sklearn.impute import SimpleImputer\n",
    "\n",
    "mapper = DataFrameMapper([\n",
    "    (['age'], [SimpleImputer(), PolynomialFeatures(include_bias=False)]),\n",
    "    (['position'], [CategoricalImputer(), LabelBinarizer()]),\n",
    "    (['goals'], SimpleImputer()),\n",
    "    (['assists'], SimpleImputer()),\n",
    "    (['plus_minus'], SimpleImputer()),\n",
    "    (['shots_on_goal'], SimpleImputer()),\n",
    "    (['blocks'], SimpleImputer()),\n",
    "    (['hits'], SimpleImputer())\n",
    "])"
   ]
  },
  {
   "cell_type": "code",
   "execution_count": 21,
   "metadata": {
    "slideshow": {
     "slide_type": "fragment"
    }
   },
   "outputs": [],
   "source": [
    "Z_train = mapper.fit_transform(X_train)\n",
    "Z_test = mapper.transform(X_test)"
   ]
  },
  {
   "cell_type": "code",
   "execution_count": 22,
   "metadata": {
    "slideshow": {
     "slide_type": "slide"
    }
   },
   "outputs": [
    {
     "data": {
      "text/plain": [
       "MultiOutputRegressor(estimator=LinearRegression(copy_X=True, fit_intercept=True, n_jobs=None,\n",
       "         normalize=False),\n",
       "           n_jobs=None)"
      ]
     },
     "execution_count": 22,
     "metadata": {},
     "output_type": "execute_result"
    }
   ],
   "source": [
    "from sklearn.multioutput import MultiOutputRegressor\n",
    "\n",
    "multi_model = MultiOutputRegressor(LinearRegression())\n",
    "multi_model.fit(Z_train, Y_train)"
   ]
  },
  {
   "cell_type": "code",
   "execution_count": 23,
   "metadata": {
    "slideshow": {
     "slide_type": "slide"
    }
   },
   "outputs": [
    {
     "data": {
      "text/html": [
       "<table border=\"1\" class=\"dataframe table table-responsive table-striped table-bordered\">\n",
       "  <thead>\n",
       "    <tr style=\"text-align: right;\">\n",
       "      <th></th>\n",
       "      <th>goals</th>\n",
       "      <th>assists</th>\n",
       "      <th>plus_minus</th>\n",
       "      <th>shots_on_goal</th>\n",
       "      <th>blocks</th>\n",
       "      <th>hits</th>\n",
       "    </tr>\n",
       "  </thead>\n",
       "  <tbody>\n",
       "    <tr>\n",
       "      <th>0</th>\n",
       "      <td>0.0</td>\n",
       "      <td>0.0</td>\n",
       "      <td>-1.0</td>\n",
       "      <td>0.0</td>\n",
       "      <td>1.0</td>\n",
       "      <td>3.0</td>\n",
       "    </tr>\n",
       "    <tr>\n",
       "      <th>1</th>\n",
       "      <td>21.0</td>\n",
       "      <td>39.0</td>\n",
       "      <td>19.0</td>\n",
       "      <td>152.0</td>\n",
       "      <td>54.0</td>\n",
       "      <td>77.0</td>\n",
       "    </tr>\n",
       "  </tbody>\n",
       "</table>"
      ],
      "text/plain": [
       "<IPython.core.display.HTML object>"
      ]
     },
     "execution_count": 23,
     "metadata": {},
     "output_type": "execute_result"
    }
   ],
   "source": [
    "display(pd.DataFrame(Z_test, columns=mapper.transformed_names_)\n",
    "    [Y_columns].head(2),index=True\n",
    ")"
   ]
  },
  {
   "cell_type": "code",
   "execution_count": 24,
   "metadata": {
    "slideshow": {
     "slide_type": "fragment"
    }
   },
   "outputs": [
    {
     "data": {
      "text/html": [
       "<table border=\"1\" class=\"dataframe table table-responsive table-striped table-bordered\">\n",
       "  <thead>\n",
       "    <tr style=\"text-align: right;\">\n",
       "      <th></th>\n",
       "      <th>goals</th>\n",
       "      <th>assists</th>\n",
       "      <th>plus_minus</th>\n",
       "      <th>shots_on_goal</th>\n",
       "      <th>blocks</th>\n",
       "      <th>hits</th>\n",
       "    </tr>\n",
       "  </thead>\n",
       "  <tbody>\n",
       "    <tr>\n",
       "      <th>0</th>\n",
       "      <td>2.365496</td>\n",
       "      <td>7.729889</td>\n",
       "      <td>-1.287782</td>\n",
       "      <td>50.991012</td>\n",
       "      <td>38.849421</td>\n",
       "      <td>45.008994</td>\n",
       "    </tr>\n",
       "    <tr>\n",
       "      <th>1</th>\n",
       "      <td>17.306302</td>\n",
       "      <td>32.612045</td>\n",
       "      <td>5.246068</td>\n",
       "      <td>148.247476</td>\n",
       "      <td>49.772165</td>\n",
       "      <td>68.536912</td>\n",
       "    </tr>\n",
       "  </tbody>\n",
       "</table>"
      ],
      "text/plain": [
       "<IPython.core.display.HTML object>"
      ]
     },
     "execution_count": 24,
     "metadata": {},
     "output_type": "execute_result"
    }
   ],
   "source": [
    "display(pd.DataFrame(multi_model.predict(Z_test), columns=Y_columns)\n",
    "    .head(2), index=True\n",
    ")"
   ]
  },
  {
   "cell_type": "markdown",
   "metadata": {
    "slideshow": {
     "slide_type": "slide"
    }
   },
   "source": [
    "<div align=\"center\">\n",
    "    <img src=\"images/deeper.jpg\" height=\"600\" width=\"600\">\n",
    "</div>"
   ]
  },
  {
   "cell_type": "code",
   "execution_count": 50,
   "metadata": {
    "slideshow": {
     "slide_type": "slide"
    }
   },
   "outputs": [],
   "source": [
    "import numpy as np\n",
    "np.random.seed(42)\n",
    "\n",
    "df['goals_next_year'] = df.groupby('name')['goals'].shift(-1)\n",
    "df['shots_on_goal_next_year'] = df.groupby('name')['shots_on_goal'].shift(-1)\n",
    "df = df.dropna(subset=['goals_next_year', 'shots_on_goal_next_year'])\n",
    "\n",
    "names = list(df.name.unique())\n",
    "train_names = np.random.choice(names, size=round(len(names) * 0.80), replace=False)\n",
    "train = df[df.name.isin(train_names)]\n",
    "test = df[~df.name.isin(train_names)]"
   ]
  },
  {
   "cell_type": "code",
   "execution_count": 51,
   "metadata": {
    "slideshow": {
     "slide_type": "slide"
    }
   },
   "outputs": [],
   "source": [
    "# separate targets\n",
    "y_train_goals = train['goals_next_year'].values\n",
    "y_train_sog = train['shots_on_goal_next_year'].values\n",
    "y_test_goals = test['goals_next_year'].values\n",
    "y_test_sog = test['shots_on_goal_next_year'].values"
   ]
  },
  {
   "cell_type": "code",
   "execution_count": 52,
   "metadata": {
    "slideshow": {
     "slide_type": "fragment"
    }
   },
   "outputs": [],
   "source": [
    "X_cols = ['age', 'position', 'games_played', 'time_on_ice_total',\n",
    "    'goals', 'shots_on_goal', 'shots_attempted_total']\n",
    "X_train = train[X_cols]\n",
    "X_test = test[X_cols]"
   ]
  },
  {
   "cell_type": "code",
   "execution_count": 53,
   "metadata": {
    "slideshow": {
     "slide_type": "slide"
    }
   },
   "outputs": [],
   "source": [
    "from sklearn.preprocessing import StandardScaler\n",
    "\n",
    "mapper = DataFrameMapper([\n",
    "    (['age'], [SimpleImputer(), PolynomialFeatures(include_bias=False), StandardScaler()]),\n",
    "    (['position'], [CategoricalImputer(), LabelBinarizer()]),\n",
    "    (['games_played'], [SimpleImputer(), StandardScaler()]),\n",
    "    (['time_on_ice_total'], [SimpleImputer(), StandardScaler()]),\n",
    "    (['goals'], [SimpleImputer(), StandardScaler()]),\n",
    "    (['shots_on_goal'], [SimpleImputer(), StandardScaler()]),\n",
    "    (['shots_attempted_total'], [SimpleImputer(), StandardScaler()])\n",
    "    ], df_out=False\n",
    ")\n",
    "Z_train = mapper.fit_transform(X_train)\n",
    "Z_test = mapper.transform(X_test)"
   ]
  },
  {
   "cell_type": "code",
   "execution_count": 54,
   "metadata": {
    "slideshow": {
     "slide_type": "slide"
    }
   },
   "outputs": [],
   "source": [
    "from tensorflow.keras import layers, Input, Model\n",
    "\n",
    "data_input = Input(shape=(Z_train.shape[1],), dtype='float64', name='last_season')\n",
    "x = layers.Dense(100, activation='relu')(data_input)\n",
    "x = layers.Dense(100, activation='relu')(x)\n",
    "x = layers.Dropout(0.25)(x)\n",
    "x = layers.Dense(5, activation='relu')(x)\n",
    "goals_prediction = layers.Dense(1, name='goals')(x)\n",
    "sog_prediction = layers.Dense(1, name='shots_on_goal')(x)\n",
    "model = Model(data_input, [goals_prediction, sog_prediction])"
   ]
  },
  {
   "cell_type": "code",
   "execution_count": 55,
   "metadata": {
    "slideshow": {
     "slide_type": "slide"
    }
   },
   "outputs": [
    {
     "data": {
      "image/png": "[encoded data removed]",
      "text/plain": [
       "<IPython.core.display.Image object>"
      ]
     },
     "execution_count": 55,
     "metadata": {},
     "output_type": "execute_result"
    }
   ],
   "source": [
    "from tensorflow.keras.utils import plot_model\n",
    "\n",
    "plot_model(model)"
   ]
  },
  {
   "cell_type": "code",
   "execution_count": 56,
   "metadata": {
    "slideshow": {
     "slide_type": "slide"
    }
   },
   "outputs": [
    {
     "name": "stdout",
     "output_type": "stream",
     "text": [
      "Epoch 1/20\n",
      "2877/2877 [==============================] - 1s 389us/sample - loss: 2149.3152 - goals_loss: 64.2252 - shots_on_goal_loss: 15070.6348\n",
      "Epoch 2/20\n",
      "2877/2877 [==============================] - 1s 252us/sample - loss: 1021.4085 - goals_loss: 48.5153 - shots_on_goal_loss: 5362.5605\n",
      "Epoch 3/20\n",
      "2877/2877 [==============================] - 1s 252us/sample - loss: 734.0616 - goals_loss: 46.1573 - shots_on_goal_loss: 2724.8850\n",
      "Epoch 4/20\n",
      "2877/2877 [==============================] - 1s 254us/sample - loss: 698.0107 - goals_loss: 44.6464 - shots_on_goal_loss: 2515.4719\n",
      "Epoch 5/20\n",
      "2877/2877 [==============================] - 1s 258us/sample - loss: 667.0865 - goals_loss: 43.0573 - shots_on_goal_loss: 2365.1367\n",
      "Epoch 6/20\n",
      "2877/2877 [==============================] - 1s 257us/sample - loss: 657.3808 - goals_loss: 42.8418 - shots_on_goal_loss: 2289.6306\n",
      "Epoch 7/20\n",
      "2877/2877 [==============================] - 1s 255us/sample - loss: 639.5159 - goals_loss: 41.7639 - shots_on_goal_loss: 2218.7673\n",
      "Epoch 8/20\n",
      "2877/2877 [==============================] - 1s 278us/sample - loss: 633.6890 - goals_loss: 41.6577 - shots_on_goal_loss: 2171.1174\n",
      "Epoch 9/20\n",
      "2877/2877 [==============================] - 1s 270us/sample - loss: 644.6523 - goals_loss: 42.0483 - shots_on_goal_loss: 2241.6899\n",
      "Epoch 10/20\n",
      "2877/2877 [==============================] - 1s 280us/sample - loss: 627.4804 - goals_loss: 41.1757 - shots_on_goal_loss: 2157.2373\n",
      "Epoch 11/20\n",
      "2877/2877 [==============================] - 1s 259us/sample - loss: 632.4785 - goals_loss: 41.5521 - shots_on_goal_loss: 2169.5806\n",
      "Epoch 12/20\n",
      "2877/2877 [==============================] - 1s 254us/sample - loss: 643.0176 - goals_loss: 42.0135 - shots_on_goal_loss: 2228.8320\n",
      "Epoch 13/20\n",
      "2877/2877 [==============================] - 1s 273us/sample - loss: 630.9188 - goals_loss: 41.4834 - shots_on_goal_loss: 2160.8521\n",
      "Epoch 14/20\n",
      "2877/2877 [==============================] - 1s 252us/sample - loss: 625.6852 - goals_loss: 41.0611 - shots_on_goal_loss: 2150.7393\n",
      "Epoch 15/20\n",
      "2877/2877 [==============================] - 1s 248us/sample - loss: 622.7471 - goals_loss: 40.8993 - shots_on_goal_loss: 2137.5369\n",
      "Epoch 16/20\n",
      "2877/2877 [==============================] - 1s 245us/sample - loss: 640.1787 - goals_loss: 41.8159 - shots_on_goal_loss: 2220.1987\n",
      "Epoch 17/20\n",
      "2877/2877 [==============================] - 1s 245us/sample - loss: 629.6506 - goals_loss: 41.2901 - shots_on_goal_loss: 2167.4944\n",
      "Epoch 18/20\n",
      "2877/2877 [==============================] - 1s 263us/sample - loss: 618.6114 - goals_loss: 40.6423 - shots_on_goal_loss: 2121.8811\n",
      "Epoch 19/20\n",
      "2877/2877 [==============================] - 1s 250us/sample - loss: 621.6835 - goals_loss: 40.7806 - shots_on_goal_loss: 2138.7703\n",
      "Epoch 20/20\n",
      "2877/2877 [==============================] - 1s 278us/sample - loss: 626.9480 - goals_loss: 41.2517 - shots_on_goal_loss: 2144.3093\n"
     ]
    },
    {
     "data": {
      "text/plain": [
       "<tensorflow.python.keras.callbacks.History at 0x1a37259c50>"
      ]
     },
     "execution_count": 56,
     "metadata": {},
     "output_type": "execute_result"
    }
   ],
   "source": [
    "model.compile(\n",
    "    optimizer='Nadam',\n",
    "    loss={'goals': 'mse', 'shots_on_goal': 'mse'},\n",
    "    loss_weights={'goals': 10, 'shots_on_goal': 1 / 10},\n",
    ")\n",
    "model.fit(Z_train, [y_train_goals, y_train_sog], epochs=20, batch_size=5)"
   ]
  },
  {
   "cell_type": "code",
   "execution_count": 57,
   "metadata": {
    "slideshow": {
     "slide_type": "slide"
    }
   },
   "outputs": [
    {
     "data": {
      "text/plain": [
       "[array([[13.27651784]]), array([[208.13033611]])]"
      ]
     },
     "execution_count": 57,
     "metadata": {},
     "output_type": "execute_result"
    }
   ],
   "source": [
    "X_new = pd.DataFrame({\n",
    "    'age': [28],\n",
    "    'position': ['D'],\n",
    "    'games_played': [71],\n",
    "    'time_on_ice_total': [1899],\n",
    "    'goals': [9],\n",
    "    'shots_on_goal': [196],\n",
    "    'shots_attempted_total': [423]\n",
    "})\n",
    "Z_new = mapper.transform(X_new)\n",
    "model.predict(Z_new)"
   ]
  },
  {
   "cell_type": "code",
   "execution_count": 59,
   "metadata": {
    "slideshow": {
     "slide_type": "slide"
    }
   },
   "outputs": [
    {
     "name": "stdout",
     "output_type": "stream",
     "text": [
      "0.5837523512405647\n",
      "0.5371085695378974\n"
     ]
    }
   ],
   "source": [
    "y_hat_test_goals = model.predict(Z_test)[0][:, 0]\n",
    "y_hat_test_sog = model.predict(Z_test)[1][:, 0]\n",
    "\n",
    "preds = pd.DataFrame({\n",
    "    'goals': y_test_goals,\n",
    "    'goals_predicted': np.round(y_hat_test_goals),\n",
    "    'sog': y_test_sog,\n",
    "    'sog_predicted': y_hat_test_sog,\n",
    "})\n",
    "\n",
    "print(r2_score(preds['goals'], preds['goals_predicted']))\n",
    "print(r2_score(preds['sog'], preds['sog_predicted']))"
   ]
  },
  {
   "cell_type": "markdown",
   "metadata": {},
   "source": [
    "<div align=\"center\">\n",
    "    <h1>Ordinal Regression</h1>\n",
    "</div>"
   ]
  },
  {
   "cell_type": "code",
   "execution_count": null,
   "metadata": {},
   "outputs": [],
   "source": []
  },
  {
   "cell_type": "markdown",
   "metadata": {
    "slideshow": {
     "slide_type": "slide"
    }
   },
   "source": [
    "![](images/fantasy_settings.png)"
   ]
  },
  {
   "cell_type": "markdown",
   "metadata": {
    "slideshow": {
     "slide_type": "slide"
    }
   },
   "source": [
    "![](images/nhl_blotto.png)"
   ]
  },
  {
   "cell_type": "markdown",
   "metadata": {
    "slideshow": {
     "slide_type": "slide"
    }
   },
   "source": [
    "![](images/adp.png)"
   ]
  },
  {
   "cell_type": "code",
   "execution_count": null,
   "metadata": {
    "slideshow": {
     "slide_type": "slide"
    }
   },
   "outputs": [],
   "source": [
    "import pandas as pd\n",
    "\n",
    "CATEGORIES = [\n",
    "    'goals',\n",
    "    'assists',\n",
    "    'plus_minus',\n",
    "    'powerplay_points',\n",
    "    'shots_on_goal',\n",
    "    'hits',\n",
    "    'blocks',\n",
    "    'wins',\n",
    "    'goals_against_average',\n",
    "    'saves',\n",
    "    'save_percentage',\n",
    "    'shutouts'\n",
    "]\n",
    "\n",
    "raw = pd.read_csv('data/nhl_draft_2018.csv')\n",
    "df = raw.copy()"
   ]
  },
  {
   "cell_type": "code",
   "execution_count": null,
   "metadata": {
    "scrolled": true,
    "slideshow": {
     "slide_type": "slide"
    }
   },
   "outputs": [],
   "source": [
    "import numpy as np \n",
    "\n",
    "np.random.seed(1)\n",
    "df.sample(10)"
   ]
  },
  {
   "cell_type": "code",
   "execution_count": null,
   "metadata": {
    "slideshow": {
     "slide_type": "slide"
    }
   },
   "outputs": [],
   "source": [
    "from sklearn.model_selection import train_test_split \n",
    "\n",
    "target = 'adp'\n",
    "\n",
    "y = df[target].values\n",
    "X = df.drop(target, axis=1)\n",
    "\n",
    "X_train, X_test, y_train, y_test = train_test_split(X, y, test_size=0.20)"
   ]
  },
  {
   "cell_type": "code",
   "execution_count": null,
   "metadata": {
    "slideshow": {
     "slide_type": "slide"
    }
   },
   "outputs": [],
   "source": [
    "from sklearn.preprocessing import LabelBinarizer, StandardScaler\n",
    "from sklearn_pandas import DataFrameMapper\n",
    "\n",
    "mapper = DataFrameMapper([\n",
    "    ('position', LabelBinarizer()),\n",
    "    (['goals'], StandardScaler()),\n",
    "    (['assists'], StandardScaler()),\n",
    "    (['plus_minus'], StandardScaler()),\n",
    "    (['powerplay_points'], StandardScaler()),\n",
    "    (['shots_on_goal'], StandardScaler()),\n",
    "    (['hits'], StandardScaler()),\n",
    "    (['blocks'], StandardScaler()),\n",
    "    (['wins'], StandardScaler()),\n",
    "    (['goals_against_average'], StandardScaler()),\n",
    "    (['saves'], StandardScaler()),\n",
    "    (['save_percentage'], StandardScaler()),\n",
    "    (['shutouts'], StandardScaler())\n",
    "], df_out=True)\n",
    "\n",
    "X_train = mapper.fit_transform(X_train)\n",
    "X_test = mapper.transform(X_test)"
   ]
  },
  {
   "cell_type": "code",
   "execution_count": null,
   "metadata": {
    "slideshow": {
     "slide_type": "slide"
    }
   },
   "outputs": [],
   "source": [
    "from sklearn.linear_model import LinearRegression\n",
    "\n",
    "lr = LinearRegression()\n",
    "\n",
    "lr.fit(X_train, y_train)\n",
    "\n",
    "lr.predict(X_test)[:10]"
   ]
  },
  {
   "cell_type": "markdown",
   "metadata": {
    "slideshow": {
     "slide_type": "fragment"
    }
   },
   "source": [
    "# 🙅🏻‍♀️"
   ]
  },
  {
   "cell_type": "code",
   "execution_count": null,
   "metadata": {
    "slideshow": {
     "slide_type": "slide"
    }
   },
   "outputs": [],
   "source": [
    "#!pip install mord\n",
    "\n",
    "import mord\n",
    "\n",
    "model = mord.OrdinalRidge(fit_intercept=False)\n",
    "\n",
    "model.fit(X_train, y_train)\n",
    "\n",
    "model.predict(X_test)[:5]"
   ]
  },
  {
   "cell_type": "code",
   "execution_count": null,
   "metadata": {
    "slideshow": {
     "slide_type": "slide"
    }
   },
   "outputs": [],
   "source": [
    "compare = pd.DataFrame({\n",
    "    'true': y_test,\n",
    "    'pred': model.predict(X_test)\n",
    "})\n",
    "\n",
    "compare.head()"
   ]
  },
  {
   "cell_type": "code",
   "execution_count": null,
   "metadata": {
    "slideshow": {
     "slide_type": "slide"
    }
   },
   "outputs": [],
   "source": [
    "import altair as alt\n",
    "alt.renderers.enable('notebook')\n",
    "\n",
    "(\n",
    "    alt.Chart(compare)\n",
    "    .mark_point()\n",
    "    .encode(\n",
    "        x='true', \n",
    "        y='pred'\n",
    "    )\n",
    ")"
   ]
  },
  {
   "cell_type": "code",
   "execution_count": null,
   "metadata": {
    "slideshow": {
     "slide_type": "fragment"
    }
   },
   "outputs": [],
   "source": [
    "from sklearn.metrics import r2_score\n",
    "\n",
    "r2_score(compare['true'], compare['pred'])"
   ]
  },
  {
   "cell_type": "code",
   "execution_count": null,
   "metadata": {
    "slideshow": {
     "slide_type": "slide"
    }
   },
   "outputs": [],
   "source": [
    "bias = pd.DataFrame({\n",
    "    'feature': mapper.transformed_names_,\n",
    "    'coef': model.coef_\n",
    "}).sort_values('coef')\n",
    "\n",
    "bias = bias[~bias.feature.str.contains('position')]"
   ]
  },
  {
   "cell_type": "code",
   "execution_count": null,
   "metadata": {
    "slideshow": {
     "slide_type": "slide"
    }
   },
   "outputs": [],
   "source": [
    "bias"
   ]
  },
  {
   "cell_type": "markdown",
   "metadata": {
    "slideshow": {
     "slide_type": "fragment"
    }
   },
   "source": [
    "> Underdogs can change the odds of winning simply by changing the basis of competition.\n",
    "\n",
    "[Source](https://fs.blog/2010/07/colonel-blotto-game/)"
   ]
  },
  {
   "cell_type": "markdown",
   "metadata": {
    "slideshow": {
     "slide_type": "slide"
    }
   },
   "source": [
    "![](images/nhl_blotto.png)"
   ]
  },
  {
   "cell_type": "code",
   "execution_count": null,
   "metadata": {
    "scrolled": true,
    "slideshow": {
     "slide_type": "slide"
    }
   },
   "outputs": [],
   "source": [
    "df.head()"
   ]
  },
  {
   "cell_type": "code",
   "execution_count": null,
   "metadata": {
    "slideshow": {
     "slide_type": "slide"
    }
   },
   "outputs": [],
   "source": [
    "# GAA is a bad thing, need to reverse\n",
    "df['goals_against_average'] = -df['goals_against_average']\n",
    "\n",
    "df[CATEGORIES] = (\n",
    "    df\n",
    "    [CATEGORIES]\n",
    "    .apply(lambda x: (x - x.min()) / (x.max() - x.min()))\n",
    ")"
   ]
  },
  {
   "cell_type": "code",
   "execution_count": null,
   "metadata": {
    "scrolled": true,
    "slideshow": {
     "slide_type": "slide"
    }
   },
   "outputs": [],
   "source": [
    "df.head()"
   ]
  },
  {
   "cell_type": "code",
   "execution_count": null,
   "metadata": {
    "slideshow": {
     "slide_type": "slide"
    }
   },
   "outputs": [],
   "source": [
    "def blotto(x, out_range=[0.80, 1]):\n",
    "    domain = np.min(x), np.max(x)\n",
    "    y = (x - (domain[1] + domain[0]) / 2) / (domain[1] - domain[0])\n",
    "    return y * (out_range[1] - out_range[0]) + (out_range[1] + out_range[0]) / 2\n",
    "\n",
    "bias['mod'] = bias[['coef']].apply(lambda x: blotto(x, (0.8, 1)))\n",
    "bias = bias[['feature', 'mod']].set_index('feature').iloc[:,0]\n",
    "\n",
    "bias"
   ]
  },
  {
   "cell_type": "code",
   "execution_count": null,
   "metadata": {
    "scrolled": true,
    "slideshow": {
     "slide_type": "slide"
    }
   },
   "outputs": [],
   "source": [
    "df[list(bias.keys())] *= bias\n",
    "\n",
    "df.head()"
   ]
  },
  {
   "cell_type": "code",
   "execution_count": null,
   "metadata": {
    "slideshow": {
     "slide_type": "slide"
    }
   },
   "outputs": [],
   "source": [
    "from copy import deepcopy\n",
    "\n",
    "cats = deepcopy(CATEGORIES)\n",
    "\n",
    "cats.remove('goals')\n",
    "cats.remove('shutouts')\n",
    "\n",
    "df['score'] = df[cats].sum(axis=1)\n",
    "\n",
    "df[['name', 'position', 'score']].head(10)"
   ]
  },
  {
   "cell_type": "markdown",
   "metadata": {
    "slideshow": {
     "slide_type": "slide"
    }
   },
   "source": [
    "![](images/fantasy_settings.png)"
   ]
  },
  {
   "cell_type": "code",
   "execution_count": null,
   "metadata": {
    "slideshow": {
     "slide_type": "slide"
    }
   },
   "outputs": [],
   "source": [
    "starters = {'C': 2, 'LW': 2, 'RW': 2, 'D': 4, 'G': 2}\n",
    "\n",
    "players = sum(starters.values())\n",
    "skaters = sum([value for key, value in starters.items() if key != 'G'])\n",
    "goalies = players - skaters\n",
    "\n",
    "print(skaters)\n",
    "print(goalies)"
   ]
  },
  {
   "cell_type": "code",
   "execution_count": null,
   "metadata": {
    "scrolled": true,
    "slideshow": {
     "slide_type": "fragment"
    }
   },
   "outputs": [],
   "source": [
    "# df['score'] = df['score'] / players\n",
    "df['score'] = np.where(df['position'] == 'G', df['score'] / goalies, df['score'] / skaters)\n",
    "\n",
    "df[['name', 'position', 'score']].head()"
   ]
  },
  {
   "cell_type": "code",
   "execution_count": null,
   "metadata": {
    "slideshow": {
     "slide_type": "slide"
    }
   },
   "outputs": [],
   "source": [
    "raw.groupby('position').mean()"
   ]
  },
  {
   "cell_type": "code",
   "execution_count": null,
   "metadata": {
    "slideshow": {
     "slide_type": "slide"
    }
   },
   "outputs": [],
   "source": [
    "pool_size = 10\n",
    "\n",
    "for position, slots in starters.items():\n",
    "    replacement = (\n",
    "        df[df['position'] == position]\n",
    "        .sort_values('score', ascending=False)\n",
    "        .head(slots * pool_size)\n",
    "        ['score']\n",
    "        .mean()\n",
    "    )\n",
    "    df.loc[df['position'] == position, 'score'] = df['score'] - replacement"
   ]
  },
  {
   "cell_type": "code",
   "execution_count": null,
   "metadata": {
    "scrolled": true,
    "slideshow": {
     "slide_type": "slide"
    }
   },
   "outputs": [],
   "source": [
    "df[['name', 'position', 'score']].sort_values('score', ascending=False).head()"
   ]
  },
  {
   "cell_type": "code",
   "execution_count": null,
   "metadata": {
    "slideshow": {
     "slide_type": "slide"
    }
   },
   "outputs": [],
   "source": [
    "scale = blotto\n",
    "\n",
    "df['score'] = df[['score']].apply(lambda x: scale(x, (0, 1)))\n",
    "df['my_rank'] = df['score'].rank(method='average', ascending=False)\n",
    "df = df.sort_values('my_rank')"
   ]
  },
  {
   "cell_type": "code",
   "execution_count": null,
   "metadata": {
    "slideshow": {
     "slide_type": "fragment"
    }
   },
   "outputs": [],
   "source": [
    "df['position_rank'] = df.groupby(['position'])['score'].rank(ascending=False)\n",
    "df['arbitrage'] = df['adp'] - df['my_rank']"
   ]
  },
  {
   "cell_type": "code",
   "execution_count": null,
   "metadata": {
    "slideshow": {
     "slide_type": "slide"
    }
   },
   "outputs": [],
   "source": [
    "df[['name', 'position', 'score', 'adp', 'my_rank', 'position_rank', 'arbitrage']].head()"
   ]
  },
  {
   "cell_type": "markdown",
   "metadata": {
    "slideshow": {
     "slide_type": "slide"
    }
   },
   "source": [
    "![](images/draft.png)"
   ]
  },
  {
   "cell_type": "markdown",
   "metadata": {
    "slideshow": {
     "slide_type": "slide"
    }
   },
   "source": [
    "![](images/my_draft.png)"
   ]
  },
  {
   "cell_type": "markdown",
   "metadata": {
    "slideshow": {
     "slide_type": "slide"
    }
   },
   "source": [
    "![](images/afterdraft.png)"
   ]
  },
  {
   "cell_type": "markdown",
   "metadata": {
    "slideshow": {
     "slide_type": "slide"
    }
   },
   "source": [
    "![](images/lastweek.png)"
   ]
  },
  {
   "cell_type": "markdown",
   "metadata": {
    "slideshow": {
     "slide_type": "slide"
    }
   },
   "source": [
    "![](https://media.giphy.com/media/lD76yTC5zxZPG/giphy.gif)"
   ]
  },
  {
   "cell_type": "markdown",
   "metadata": {
    "slideshow": {
     "slide_type": "slide"
    }
   },
   "source": [
    "<div align=\"center\">\n",
    "\n",
    "    twitter: @maxhumber\n",
    "    linkedin: /in/maxhumber\n",
    "    email: maxhumber@gmail.com\n",
    "\n",
    "</div>"
   ]
  }
 ],
 "metadata": {
  "celltoolbar": "Slideshow",
  "kernelspec": {
   "display_name": "Python 3",
   "language": "python",
   "name": "python3"
  },
  "language_info": {
   "codemirror_mode": {
    "name": "ipython",
    "version": 3
   },
   "file_extension": ".py",
   "mimetype": "text/x-python",
   "name": "python",
   "nbconvert_exporter": "python",
   "pygments_lexer": "ipython3",
   "version": "3.7.1"
  }
 },
 "nbformat": 4,
 "nbformat_minor": 2
}
