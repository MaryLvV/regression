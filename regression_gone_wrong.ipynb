{
 "cells": [
  {
   "cell_type": "markdown",
   "metadata": {
    "slideshow": {
     "slide_type": "slide"
    }
   },
   "source": [
    "<div align=\"center\">\n",
    "    <h1>Regression Gone Wrong*</h1>\n",
    "    <a href=\"https://twitter.com/maxhumber\"><h2>@maxhumber</h2></a>\n",
    "    <h4>Boston • ODSC • May 2, 2019</h4>\n",
    "</div>"
   ]
  },
  {
   "cell_type": "markdown",
   "metadata": {
    "slideshow": {
     "slide_type": "slide"
    }
   },
   "source": [
    "<div align=\"center\">\n",
    "    <img src=\"images/ymxb.png\" height=\"600\" width=\"600\">\n",
    "</div>"
   ]
  },
  {
   "cell_type": "markdown",
   "metadata": {
    "slideshow": {
     "slide_type": "slide"
    }
   },
   "source": [
    "<div align=\"center\">\n",
    "    <img src=\"images/datalol.png\" height=\"600\" width=\"600\">\n",
    "</div>"
   ]
  },
  {
   "cell_type": "markdown",
   "metadata": {
    "slideshow": {
     "slide_type": "slide"
    }
   },
   "source": [
    "<div align=\"center\">\n",
    "    <img src=\"images/titanic.jpg\" height=\"700\" width=\"700\">\n",
    "</div>"
   ]
  },
  {
   "cell_type": "markdown",
   "metadata": {
    "slideshow": {
     "slide_type": "slide"
    }
   },
   "source": [
    "<div align=\"center\">\n",
    "    <img src=\"images/hockey_clipart.jpg\" height=\"500\" width=\"500\">\n",
    "</div>"
   ]
  },
  {
   "cell_type": "markdown",
   "metadata": {
    "slideshow": {
     "slide_type": "slide"
    }
   },
   "source": [
    "<div align=\"center\">\n",
    "    <img src=\"images/toronto.jpg\" height=\"800\" width=\"800\">\n",
    "</div>"
   ]
  },
  {
   "cell_type": "markdown",
   "metadata": {
    "slideshow": {
     "slide_type": "slide"
    }
   },
   "source": [
    "<div align=\"center\">\n",
    "    <img src=\"images/bruins.jpg\" height=\"700\" width=\"700\">\n",
    "</div>"
   ]
  },
  {
   "cell_type": "markdown",
   "metadata": {
    "slideshow": {
     "slide_type": "slide"
    }
   },
   "source": [
    "<div align=\"center\">\n",
    "    <img src=\"images/leafs_ice.jpg\" height=\"600\" width=\"600\">\n",
    "</div>"
   ]
  },
  {
   "cell_type": "markdown",
   "metadata": {
    "slideshow": {
     "slide_type": "slide"
    }
   },
   "source": [
    "<div align=\"center\">\n",
    "    <b><font size=\"+10\">Regression 101</font></b>\n",
    "</div>"
   ]
  },
  {
   "cell_type": "code",
   "execution_count": 1,
   "metadata": {
    "slideshow": {
     "slide_type": "slide"
    }
   },
   "outputs": [],
   "source": [
    "# step 1:\n",
    "import pandas as pd"
   ]
  },
  {
   "cell_type": "code",
   "execution_count": 2,
   "metadata": {
    "slideshow": {
     "slide_type": "fragment"
    }
   },
   "outputs": [],
   "source": [
    "# step 2:\n",
    "df = pd.read_csv('data/skaters.csv')\n",
    "columns = ['name', 'age', 'position', 'goals', 'assists', 'plus_minus', 'shots_on_goal', 'blocks', 'hits']\n",
    "df = df[columns].dropna()"
   ]
  },
  {
   "cell_type": "code",
   "execution_count": 3,
   "metadata": {
    "scrolled": true,
    "slideshow": {
     "slide_type": "slide"
    }
   },
   "outputs": [
    {
     "data": {
      "text/html": [
       "<table border=\"1\" class=\"dataframe table table-responsive table-striped table-bordered\">\n",
       "  <thead>\n",
       "    <tr style=\"text-align: right;\">\n",
       "      <th>name</th>\n",
       "      <th>age</th>\n",
       "      <th>position</th>\n",
       "      <th>goals</th>\n",
       "      <th>assists</th>\n",
       "      <th>plus_minus</th>\n",
       "      <th>shots_on_goal</th>\n",
       "      <th>blocks</th>\n",
       "      <th>hits</th>\n",
       "    </tr>\n",
       "  </thead>\n",
       "  <tbody>\n",
       "    <tr>\n",
       "      <td>Lucas Wallmark</td>\n",
       "      <td>21.0</td>\n",
       "      <td>C</td>\n",
       "      <td>0</td>\n",
       "      <td>2</td>\n",
       "      <td>1</td>\n",
       "      <td>11</td>\n",
       "      <td>3.0</td>\n",
       "      <td>14.0</td>\n",
       "    </tr>\n",
       "    <tr>\n",
       "      <td>Matt Hunwick</td>\n",
       "      <td>24.0</td>\n",
       "      <td>D</td>\n",
       "      <td>6</td>\n",
       "      <td>8</td>\n",
       "      <td>-16</td>\n",
       "      <td>60</td>\n",
       "      <td>63.0</td>\n",
       "      <td>64.0</td>\n",
       "    </tr>\n",
       "    <tr>\n",
       "      <td>Evander Kane</td>\n",
       "      <td>24.0</td>\n",
       "      <td>LW</td>\n",
       "      <td>20</td>\n",
       "      <td>15</td>\n",
       "      <td>-14</td>\n",
       "      <td>271</td>\n",
       "      <td>23.0</td>\n",
       "      <td>171.0</td>\n",
       "    </tr>\n",
       "    <tr>\n",
       "      <td>Jonathan Toews</td>\n",
       "      <td>24.0</td>\n",
       "      <td>C</td>\n",
       "      <td>23</td>\n",
       "      <td>25</td>\n",
       "      <td>28</td>\n",
       "      <td>143</td>\n",
       "      <td>16.0</td>\n",
       "      <td>24.0</td>\n",
       "    </tr>\n",
       "    <tr>\n",
       "      <td>John Tavares</td>\n",
       "      <td>24.0</td>\n",
       "      <td>C</td>\n",
       "      <td>38</td>\n",
       "      <td>48</td>\n",
       "      <td>5</td>\n",
       "      <td>278</td>\n",
       "      <td>37.0</td>\n",
       "      <td>48.0</td>\n",
       "    </tr>\n",
       "  </tbody>\n",
       "</table>"
      ],
      "text/plain": [
       "<IPython.core.display.HTML object>"
      ]
     },
     "execution_count": 3,
     "metadata": {},
     "output_type": "execute_result"
    }
   ],
   "source": [
    "from IPython.core.display import HTML\n",
    "\n",
    "def display(df, index=False):\n",
    "    return HTML(df.to_html(\n",
    "        index=index,\n",
    "        classes='table table-responsive table-striped table-bordered'\n",
    "    ))\n",
    "\n",
    "display(df.sample(5))"
   ]
  },
  {
   "cell_type": "code",
   "execution_count": 5,
   "metadata": {
    "slideshow": {
     "slide_type": "slide"
    }
   },
   "outputs": [],
   "source": [
    "# step 3 - target:\n",
    "y = df['goals']\n",
    "X = df[['age', 'assists', 'plus_minus', 'shots_on_goal', 'blocks', 'hits']]"
   ]
  },
  {
   "cell_type": "code",
   "execution_count": 6,
   "metadata": {
    "slideshow": {
     "slide_type": "fragment"
    }
   },
   "outputs": [],
   "source": [
    "# step 4:\n",
    "from sklearn.model_selection import train_test_split\n",
    "X_train, X_test, y_train, y_test = train_test_split(\n",
    "    X, y, test_size=0.2, random_state=1993)"
   ]
  },
  {
   "cell_type": "code",
   "execution_count": 7,
   "metadata": {
    "slideshow": {
     "slide_type": "slide"
    }
   },
   "outputs": [],
   "source": [
    "# step 5:\n",
    "from sklearn.linear_model import LinearRegression"
   ]
  },
  {
   "cell_type": "code",
   "execution_count": 8,
   "metadata": {
    "slideshow": {
     "slide_type": "fragment"
    }
   },
   "outputs": [],
   "source": [
    "# step 6:\n",
    "model = LinearRegression()"
   ]
  },
  {
   "cell_type": "code",
   "execution_count": 9,
   "metadata": {
    "slideshow": {
     "slide_type": "fragment"
    }
   },
   "outputs": [
    {
     "data": {
      "text/plain": [
       "LinearRegression(copy_X=True, fit_intercept=True, n_jobs=None,\n",
       "         normalize=False)"
      ]
     },
     "execution_count": 9,
     "metadata": {},
     "output_type": "execute_result"
    }
   ],
   "source": [
    "# step 7:\n",
    "model.fit(X_train, y_train)"
   ]
  },
  {
   "cell_type": "code",
   "execution_count": 10,
   "metadata": {
    "slideshow": {
     "slide_type": "fragment"
    }
   },
   "outputs": [],
   "source": [
    "# step 8:\n",
    "y_hat = model.predict(X_test)"
   ]
  },
  {
   "cell_type": "code",
   "execution_count": 11,
   "metadata": {
    "slideshow": {
     "slide_type": "slide"
    }
   },
   "outputs": [
    {
     "name": "stdout",
     "output_type": "stream",
     "text": [
      "R^2: 0.81\n",
      "MAE: 2.96\n"
     ]
    }
   ],
   "source": [
    "# step 9:\n",
    "from sklearn.metrics import r2_score, mean_absolute_error\n",
    "print(f'R^2: {r2_score(y_test, y_hat):.2f}')\n",
    "print(f'MAE: {mean_absolute_error(y_test, y_hat):.2f}')"
   ]
  },
  {
   "cell_type": "code",
   "execution_count": 12,
   "metadata": {
    "slideshow": {
     "slide_type": "slide"
    }
   },
   "outputs": [
    {
     "data": {
      "image/png": "[encoded data removed]",
      "text/plain": [
       "<Figure size 576x360 with 1 Axes>"
      ]
     },
     "metadata": {
      "needs_background": "light"
     },
     "output_type": "display_data"
    }
   ],
   "source": [
    "from matplotlib import pyplot as plt\n",
    "%matplotlib inline\n",
    "\n",
    "plt.figure(figsize=(8, 5))\n",
    "plt.scatter(y_test, y_hat, alpha=1/5)\n",
    "plt.plot([0, 50], [0, 50], c='r');"
   ]
  },
  {
   "cell_type": "code",
   "execution_count": 13,
   "metadata": {
    "slideshow": {
     "slide_type": "slide"
    }
   },
   "outputs": [
    {
     "data": {
      "text/html": [
       "<table border=\"1\" class=\"dataframe table table-responsive table-striped table-bordered\">\n",
       "  <thead>\n",
       "    <tr style=\"text-align: right;\">\n",
       "      <th>name</th>\n",
       "      <th>age</th>\n",
       "      <th>position</th>\n",
       "      <th>goals</th>\n",
       "      <th>assists</th>\n",
       "      <th>plus_minus</th>\n",
       "      <th>shots_on_goal</th>\n",
       "      <th>blocks</th>\n",
       "      <th>hits</th>\n",
       "    </tr>\n",
       "  </thead>\n",
       "  <tbody>\n",
       "    <tr>\n",
       "      <td>Micheal Ferland</td>\n",
       "      <td>24.0</td>\n",
       "      <td>LW</td>\n",
       "      <td>15</td>\n",
       "      <td>10</td>\n",
       "      <td>-1</td>\n",
       "      <td>106</td>\n",
       "      <td>26.0</td>\n",
       "      <td>149.0</td>\n",
       "    </tr>\n",
       "    <tr>\n",
       "      <td>Ryan Callahan</td>\n",
       "      <td>33.0</td>\n",
       "      <td>RW</td>\n",
       "      <td>7</td>\n",
       "      <td>10</td>\n",
       "      <td>7</td>\n",
       "      <td>76</td>\n",
       "      <td>25.0</td>\n",
       "      <td>89.0</td>\n",
       "    </tr>\n",
       "    <tr>\n",
       "      <td>Drew Stafford</td>\n",
       "      <td>22.0</td>\n",
       "      <td>RW</td>\n",
       "      <td>16</td>\n",
       "      <td>22</td>\n",
       "      <td>3</td>\n",
       "      <td>103</td>\n",
       "      <td>20.0</td>\n",
       "      <td>62.0</td>\n",
       "    </tr>\n",
       "    <tr>\n",
       "      <td>Tomas Hertl</td>\n",
       "      <td>24.0</td>\n",
       "      <td>C</td>\n",
       "      <td>22</td>\n",
       "      <td>24</td>\n",
       "      <td>-2</td>\n",
       "      <td>175</td>\n",
       "      <td>71.0</td>\n",
       "      <td>84.0</td>\n",
       "    </tr>\n",
       "    <tr>\n",
       "      <td>Brayden Schenn</td>\n",
       "      <td>21.0</td>\n",
       "      <td>C</td>\n",
       "      <td>8</td>\n",
       "      <td>18</td>\n",
       "      <td>-8</td>\n",
       "      <td>79</td>\n",
       "      <td>22.0</td>\n",
       "      <td>109.0</td>\n",
       "    </tr>\n",
       "  </tbody>\n",
       "</table>"
      ],
      "text/plain": [
       "<IPython.core.display.HTML object>"
      ]
     },
     "execution_count": 13,
     "metadata": {},
     "output_type": "execute_result"
    }
   ],
   "source": [
    "display(df.sample(5))"
   ]
  },
  {
   "cell_type": "markdown",
   "metadata": {
    "slideshow": {
     "slide_type": "slide"
    }
   },
   "source": [
    "<h1>problems...</h1>\n",
    "<ol>\n",
    "    <li>can't make predictions on new data...</li>\n",
    "    <li>not benchmarked...</li>\n",
    "    <li><i>maybe</i> not using the right algorithm...</li>\n",
    "</ol>\n",
    "<br>\n",
    "<div align=\"left\">\n",
    "    <img src=\"https://media.giphy.com/media/Bw7fyRylzteWk/giphy.gif\" height=\"250\" width=\"250\">\n",
    "</div>"
   ]
  },
  {
   "cell_type": "markdown",
   "metadata": {
    "slideshow": {
     "slide_type": "slide"
    }
   },
   "source": [
    "<br>\n",
    "<div align=\"center\">\n",
    "    <b><font size=\"+10\">#YouSuckAtRegression</font></b>\n",
    "</div>"
   ]
  },
  {
   "cell_type": "markdown",
   "metadata": {
    "slideshow": {
     "slide_type": "fragment"
    }
   },
   "source": [
    "<div align=\"center\">\n",
    "    <img src=\"https://i.imgur.com/GfJNU68.gif\" height=\"600\" width=\"600\">\n",
    "</div>"
   ]
  },
  {
   "cell_type": "markdown",
   "metadata": {
    "slideshow": {
     "slide_type": "slide"
    }
   },
   "source": [
    "<h1>model preview</h1>\n",
    "<ol>\n",
    "    <li>Multiple output regression...</li>\n",
    "    <li>Ordinal regression...</li>\n",
    "    <li>Poisson regression...</li>\n",
    "</ol>"
   ]
  },
  {
   "cell_type": "markdown",
   "metadata": {
    "slideshow": {
     "slide_type": "fragment"
    }
   },
   "source": [
    "<h1>problems</h1>\n",
    "<ol>\n",
    "    <li>...to predict player performance next year</li>\n",
    "    <li>...to find diamonds in the rough</li>\n",
    "    <li>...to choose the right side of the Over/Under</li>\n",
    "</ol>"
   ]
  },
  {
   "cell_type": "markdown",
   "metadata": {
    "slideshow": {
     "slide_type": "slide"
    }
   },
   "source": [
    "<div align=\"center\">\n",
    "    <img src=\"images/kramer.gif\" height=\"400\" width=\"400\">\n",
    "</div>"
   ]
  },
  {
   "cell_type": "markdown",
   "metadata": {
    "slideshow": {
     "slide_type": "slide"
    }
   },
   "source": [
    "<div align=\"center\">\n",
    "    <h1>Multiple Output Regression</h1>\n",
    "</div>"
   ]
  },
  {
   "cell_type": "markdown",
   "metadata": {
    "slideshow": {
     "slide_type": "slide"
    }
   },
   "source": [
    "<div align=\"center\">\n",
    "    <img src=\"images/ymxb.png\" height=\"500\" width=\"500\">\n",
    "</div>"
   ]
  },
  {
   "cell_type": "markdown",
   "metadata": {
    "slideshow": {
     "slide_type": "slide"
    }
   },
   "source": [
    "<div align=\"center\">\n",
    "    <img src=\"images/prediction_machine.png\" height=\"600\" width=\"600\">\n",
    "</div>"
   ]
  },
  {
   "cell_type": "markdown",
   "metadata": {
    "slideshow": {
     "slide_type": "slide"
    }
   },
   "source": [
    "<div align=\"center\">\n",
    "    <img src=\"images/prediction_machine_2.png\" height=\"600\" width=\"600\">\n",
    "</div>"
   ]
  },
  {
   "cell_type": "code",
   "execution_count": 15,
   "metadata": {
    "slideshow": {
     "slide_type": "slide"
    }
   },
   "outputs": [],
   "source": [
    "import pandas as pd \n",
    "\n",
    "df = pd.read_csv('data/skaters.csv')\n",
    "# quick clean\n",
    "df['season_start'] = df['season'].apply(lambda x: int(x[:4]))\n",
    "df = df.query('season_start >= 2007')\n",
    "df['position'] = df['position'].apply(\n",
    "    lambda x: 'Multiple' if '/' in x else x)"
   ]
  },
  {
   "cell_type": "code",
   "execution_count": 16,
   "metadata": {
    "slideshow": {
     "slide_type": "fragment"
    }
   },
   "outputs": [],
   "source": [
    "Y_columns = [\n",
    "    'goals', 'assists', 'plus_minus', \n",
    "    'shots_on_goal', 'blocks', 'hits']\n",
    "X_columns = ['position', 'age'] + Y_columns"
   ]
  },
  {
   "cell_type": "code",
   "execution_count": 17,
   "metadata": {
    "slideshow": {
     "slide_type": "slide"
    }
   },
   "outputs": [
    {
     "data": {
      "text/html": [
       "<table border=\"1\" class=\"dataframe table table-responsive table-striped table-bordered\">\n",
       "  <thead>\n",
       "    <tr style=\"text-align: right;\">\n",
       "      <th>name</th>\n",
       "      <th>season</th>\n",
       "      <th>position</th>\n",
       "      <th>age</th>\n",
       "      <th>goals</th>\n",
       "      <th>assists</th>\n",
       "      <th>plus_minus</th>\n",
       "      <th>shots_on_goal</th>\n",
       "      <th>blocks</th>\n",
       "      <th>hits</th>\n",
       "    </tr>\n",
       "  </thead>\n",
       "  <tbody>\n",
       "    <tr>\n",
       "      <td>Mitch Marner</td>\n",
       "      <td>2016-17</td>\n",
       "      <td>C</td>\n",
       "      <td>19.0</td>\n",
       "      <td>19</td>\n",
       "      <td>42</td>\n",
       "      <td>0</td>\n",
       "      <td>176</td>\n",
       "      <td>39.0</td>\n",
       "      <td>41.0</td>\n",
       "    </tr>\n",
       "    <tr>\n",
       "      <td>Mitch Marner</td>\n",
       "      <td>2017-18</td>\n",
       "      <td>C</td>\n",
       "      <td>20.0</td>\n",
       "      <td>22</td>\n",
       "      <td>47</td>\n",
       "      <td>-1</td>\n",
       "      <td>194</td>\n",
       "      <td>25.0</td>\n",
       "      <td>31.0</td>\n",
       "    </tr>\n",
       "    <tr>\n",
       "      <td>Mitch Marner</td>\n",
       "      <td>2018-19</td>\n",
       "      <td>C</td>\n",
       "      <td>21.0</td>\n",
       "      <td>26</td>\n",
       "      <td>68</td>\n",
       "      <td>22</td>\n",
       "      <td>233</td>\n",
       "      <td>43.0</td>\n",
       "      <td>29.0</td>\n",
       "    </tr>\n",
       "  </tbody>\n",
       "</table>"
      ],
      "text/plain": [
       "<IPython.core.display.HTML object>"
      ]
     },
     "execution_count": 17,
     "metadata": {},
     "output_type": "execute_result"
    }
   ],
   "source": [
    "display(\n",
    "    df[['name', 'season'] + X_columns]\n",
    "    .query('name == \"Mitch Marner\"')\n",
    ")"
   ]
  },
  {
   "cell_type": "code",
   "execution_count": 18,
   "metadata": {
    "slideshow": {
     "slide_type": "slide"
    }
   },
   "outputs": [
    {
     "data": {
      "text/html": [
       "<img src=\"https://media.giphy.com/media/5FTe65sKNVfEc/giphy.gif\" height=\"100\" width=\"100\">"
      ],
      "text/plain": [
       "<IPython.core.display.HTML object>"
      ]
     },
     "execution_count": 18,
     "metadata": {},
     "output_type": "execute_result"
    }
   ],
   "source": [
    "# shift everything by a year \n",
    "Y = df.groupby('id')[Y_columns].shift(-1)\n",
    "X = df[X_columns]\n",
    "# drop out dangling Y rows...\n",
    "X = X[~pd.isnull(Y).any(axis=1)]\n",
    "Y = Y.dropna()\n",
    "# reset index\n",
    "Y = Y.reset_index(drop=True)\n",
    "X = X.reset_index(drop=True)\n",
    "# this is me shifting:\n",
    "HTML('<img src=\"https://media.giphy.com/media/5FTe65sKNVfEc/giphy.gif\" height=\"100\" width=\"100\">')"
   ]
  },
  {
   "cell_type": "code",
   "execution_count": 19,
   "metadata": {
    "slideshow": {
     "slide_type": "slide"
    }
   },
   "outputs": [
    {
     "data": {
      "text/html": [
       "<table border=\"1\" class=\"dataframe table table-responsive table-striped table-bordered\">\n",
       "  <thead>\n",
       "    <tr style=\"text-align: right;\">\n",
       "      <th></th>\n",
       "      <th>position</th>\n",
       "      <th>age</th>\n",
       "      <th>goals</th>\n",
       "      <th>assists</th>\n",
       "      <th>plus_minus</th>\n",
       "      <th>shots_on_goal</th>\n",
       "      <th>blocks</th>\n",
       "      <th>hits</th>\n",
       "    </tr>\n",
       "  </thead>\n",
       "  <tbody>\n",
       "    <tr>\n",
       "      <th>0</th>\n",
       "      <td>C</td>\n",
       "      <td>22.0</td>\n",
       "      <td>0</td>\n",
       "      <td>3</td>\n",
       "      <td>2</td>\n",
       "      <td>9</td>\n",
       "      <td>2.0</td>\n",
       "      <td>0.0</td>\n",
       "    </tr>\n",
       "    <tr>\n",
       "      <th>1</th>\n",
       "      <td>D</td>\n",
       "      <td>23.0</td>\n",
       "      <td>0</td>\n",
       "      <td>3</td>\n",
       "      <td>-2</td>\n",
       "      <td>12</td>\n",
       "      <td>9.0</td>\n",
       "      <td>6.0</td>\n",
       "    </tr>\n",
       "    <tr>\n",
       "      <th>2</th>\n",
       "      <td>C</td>\n",
       "      <td>18.0</td>\n",
       "      <td>18</td>\n",
       "      <td>34</td>\n",
       "      <td>-2</td>\n",
       "      <td>134</td>\n",
       "      <td>33.0</td>\n",
       "      <td>38.0</td>\n",
       "    </tr>\n",
       "    <tr>\n",
       "      <th>3</th>\n",
       "      <td>C</td>\n",
       "      <td>19.0</td>\n",
       "      <td>4</td>\n",
       "      <td>20</td>\n",
       "      <td>3</td>\n",
       "      <td>78</td>\n",
       "      <td>27.0</td>\n",
       "      <td>27.0</td>\n",
       "    </tr>\n",
       "    <tr>\n",
       "      <th>4</th>\n",
       "      <td>C</td>\n",
       "      <td>20.0</td>\n",
       "      <td>19</td>\n",
       "      <td>37</td>\n",
       "      <td>-12</td>\n",
       "      <td>178</td>\n",
       "      <td>35.0</td>\n",
       "      <td>72.0</td>\n",
       "    </tr>\n",
       "  </tbody>\n",
       "</table>"
      ],
      "text/plain": [
       "<IPython.core.display.HTML object>"
      ]
     },
     "execution_count": 19,
     "metadata": {},
     "output_type": "execute_result"
    }
   ],
   "source": [
    "display(X.head(5), index=True)"
   ]
  },
  {
   "cell_type": "code",
   "execution_count": 20,
   "metadata": {
    "slideshow": {
     "slide_type": "fragment"
    }
   },
   "outputs": [
    {
     "data": {
      "text/html": [
       "<table border=\"1\" class=\"dataframe table table-responsive table-striped table-bordered\">\n",
       "  <thead>\n",
       "    <tr style=\"text-align: right;\">\n",
       "      <th></th>\n",
       "      <th>goals</th>\n",
       "      <th>assists</th>\n",
       "      <th>plus_minus</th>\n",
       "      <th>shots_on_goal</th>\n",
       "      <th>blocks</th>\n",
       "      <th>hits</th>\n",
       "    </tr>\n",
       "  </thead>\n",
       "  <tbody>\n",
       "    <tr>\n",
       "      <th>0</th>\n",
       "      <td>0.0</td>\n",
       "      <td>8.0</td>\n",
       "      <td>2.0</td>\n",
       "      <td>52.0</td>\n",
       "      <td>10.0</td>\n",
       "      <td>3.0</td>\n",
       "    </tr>\n",
       "    <tr>\n",
       "      <th>1</th>\n",
       "      <td>0.0</td>\n",
       "      <td>6.0</td>\n",
       "      <td>9.0</td>\n",
       "      <td>42.0</td>\n",
       "      <td>35.0</td>\n",
       "      <td>33.0</td>\n",
       "    </tr>\n",
       "    <tr>\n",
       "      <th>2</th>\n",
       "      <td>4.0</td>\n",
       "      <td>20.0</td>\n",
       "      <td>3.0</td>\n",
       "      <td>78.0</td>\n",
       "      <td>27.0</td>\n",
       "      <td>27.0</td>\n",
       "    </tr>\n",
       "    <tr>\n",
       "      <th>3</th>\n",
       "      <td>19.0</td>\n",
       "      <td>37.0</td>\n",
       "      <td>-12.0</td>\n",
       "      <td>178.0</td>\n",
       "      <td>35.0</td>\n",
       "      <td>72.0</td>\n",
       "    </tr>\n",
       "  </tbody>\n",
       "</table>"
      ],
      "text/plain": [
       "<IPython.core.display.HTML object>"
      ]
     },
     "execution_count": 20,
     "metadata": {},
     "output_type": "execute_result"
    }
   ],
   "source": [
    "display(Y.head(4), index=True)"
   ]
  },
  {
   "cell_type": "code",
   "execution_count": 21,
   "metadata": {
    "slideshow": {
     "slide_type": "slide"
    }
   },
   "outputs": [],
   "source": [
    "X_train, X_test, Y_train, Y_test = (\n",
    "    train_test_split(X, Y, test_size=0.2, random_state=42)\n",
    ")"
   ]
  },
  {
   "cell_type": "markdown",
   "metadata": {
    "slideshow": {
     "slide_type": "slide"
    }
   },
   "source": [
    "<div align=\"center\">\n",
    "    <img src=\"images/secret_sauce.jpg\" height=\"600\" width=\"600\">\n",
    "</div>"
   ]
  },
  {
   "cell_type": "code",
   "execution_count": 22,
   "metadata": {
    "slideshow": {
     "slide_type": "slide"
    }
   },
   "outputs": [],
   "source": [
    "from sklearn_pandas import DataFrameMapper, CategoricalImputer\n",
    "from sklearn.preprocessing import PolynomialFeatures, LabelBinarizer\n",
    "from sklearn.impute import SimpleImputer\n",
    "\n",
    "mapper = DataFrameMapper([\n",
    "    (['age'], [SimpleImputer(), PolynomialFeatures(include_bias=False)]),\n",
    "    (['position'], [CategoricalImputer(), LabelBinarizer()]),\n",
    "    (['goals'], SimpleImputer()),\n",
    "    (['assists'], SimpleImputer()),\n",
    "    (['plus_minus'], SimpleImputer()),\n",
    "    (['shots_on_goal'], SimpleImputer()),\n",
    "    (['blocks'], SimpleImputer()),\n",
    "    (['hits'], SimpleImputer())\n",
    "])"
   ]
  },
  {
   "cell_type": "code",
   "execution_count": 23,
   "metadata": {
    "slideshow": {
     "slide_type": "fragment"
    }
   },
   "outputs": [],
   "source": [
    "Z_train = mapper.fit_transform(X_train)\n",
    "Z_test = mapper.transform(X_test)"
   ]
  },
  {
   "cell_type": "code",
   "execution_count": 24,
   "metadata": {
    "slideshow": {
     "slide_type": "slide"
    }
   },
   "outputs": [
    {
     "data": {
      "text/html": [
       "<img src=\"https://media.giphy.com/media/12NUbkX6p4xOO4/giphy.gif\" height=\"200\" width=\"200\">"
      ],
      "text/plain": [
       "<IPython.core.display.HTML object>"
      ]
     },
     "execution_count": 24,
     "metadata": {},
     "output_type": "execute_result"
    }
   ],
   "source": [
    "from sklearn.multioutput import MultiOutputRegressor\n",
    "\n",
    "multi_model = MultiOutputRegressor(LinearRegression())\n",
    "multi_model.fit(Z_train, Y_train)\n",
    "\n",
    "HTML('<img src=\"https://media.giphy.com/media/12NUbkX6p4xOO4/giphy.gif\" height=\"200\" width=\"200\">')"
   ]
  },
  {
   "cell_type": "code",
   "execution_count": 25,
   "metadata": {
    "slideshow": {
     "slide_type": "slide"
    }
   },
   "outputs": [
    {
     "data": {
      "text/html": [
       "<table border=\"1\" class=\"dataframe table table-responsive table-striped table-bordered\">\n",
       "  <thead>\n",
       "    <tr style=\"text-align: right;\">\n",
       "      <th></th>\n",
       "      <th>goals</th>\n",
       "      <th>assists</th>\n",
       "      <th>plus_minus</th>\n",
       "      <th>shots_on_goal</th>\n",
       "      <th>blocks</th>\n",
       "      <th>hits</th>\n",
       "    </tr>\n",
       "  </thead>\n",
       "  <tbody>\n",
       "    <tr>\n",
       "      <th>0</th>\n",
       "      <td>0.0</td>\n",
       "      <td>0.0</td>\n",
       "      <td>-1.0</td>\n",
       "      <td>0.0</td>\n",
       "      <td>1.0</td>\n",
       "      <td>3.0</td>\n",
       "    </tr>\n",
       "    <tr>\n",
       "      <th>1</th>\n",
       "      <td>21.0</td>\n",
       "      <td>39.0</td>\n",
       "      <td>19.0</td>\n",
       "      <td>152.0</td>\n",
       "      <td>54.0</td>\n",
       "      <td>77.0</td>\n",
       "    </tr>\n",
       "  </tbody>\n",
       "</table>"
      ],
      "text/plain": [
       "<IPython.core.display.HTML object>"
      ]
     },
     "execution_count": 25,
     "metadata": {},
     "output_type": "execute_result"
    }
   ],
   "source": [
    "display(pd.DataFrame(Z_test, columns=mapper.transformed_names_)\n",
    "    [Y_columns].head(2),index=True\n",
    ")"
   ]
  },
  {
   "cell_type": "code",
   "execution_count": 26,
   "metadata": {
    "slideshow": {
     "slide_type": "fragment"
    }
   },
   "outputs": [
    {
     "data": {
      "text/html": [
       "<table border=\"1\" class=\"dataframe table table-responsive table-striped table-bordered\">\n",
       "  <thead>\n",
       "    <tr style=\"text-align: right;\">\n",
       "      <th></th>\n",
       "      <th>goals</th>\n",
       "      <th>assists</th>\n",
       "      <th>plus_minus</th>\n",
       "      <th>shots_on_goal</th>\n",
       "      <th>blocks</th>\n",
       "      <th>hits</th>\n",
       "    </tr>\n",
       "  </thead>\n",
       "  <tbody>\n",
       "    <tr>\n",
       "      <th>0</th>\n",
       "      <td>2.365496</td>\n",
       "      <td>7.729889</td>\n",
       "      <td>-1.287782</td>\n",
       "      <td>50.991012</td>\n",
       "      <td>38.849421</td>\n",
       "      <td>45.008994</td>\n",
       "    </tr>\n",
       "    <tr>\n",
       "      <th>1</th>\n",
       "      <td>17.306302</td>\n",
       "      <td>32.612045</td>\n",
       "      <td>5.246068</td>\n",
       "      <td>148.247476</td>\n",
       "      <td>49.772165</td>\n",
       "      <td>68.536912</td>\n",
       "    </tr>\n",
       "  </tbody>\n",
       "</table>"
      ],
      "text/plain": [
       "<IPython.core.display.HTML object>"
      ]
     },
     "execution_count": 26,
     "metadata": {},
     "output_type": "execute_result"
    }
   ],
   "source": [
    "display(pd.DataFrame(multi_model.predict(Z_test), columns=Y_columns)\n",
    "    .head(2), index=True\n",
    ")"
   ]
  },
  {
   "cell_type": "markdown",
   "metadata": {
    "slideshow": {
     "slide_type": "slide"
    }
   },
   "source": [
    "<div align=\"center\">\n",
    "    <img src=\"images/deeper.jpg\" height=\"600\" width=\"600\">\n",
    "</div>"
   ]
  },
  {
   "cell_type": "code",
   "execution_count": 27,
   "metadata": {
    "slideshow": {
     "slide_type": "slide"
    }
   },
   "outputs": [],
   "source": [
    "y_sog = Y['shots_on_goal']\n",
    "y_goals = Y['goals']"
   ]
  },
  {
   "cell_type": "code",
   "execution_count": 28,
   "metadata": {
    "slideshow": {
     "slide_type": "slide"
    }
   },
   "outputs": [
    {
     "data": {
      "text/html": [
       "<img src=\"https://media.giphy.com/media/EldfH1VJdbrwY/giphy.gif\" height=\"100\" width=\"100\">"
      ],
      "text/plain": [
       "<IPython.core.display.HTML object>"
      ]
     },
     "execution_count": 28,
     "metadata": {},
     "output_type": "execute_result"
    }
   ],
   "source": [
    "(X_train, X_test, \n",
    " y_sog_train, y_sog_test, \n",
    " y_goals_train, y_goals_test) = train_test_split(\n",
    "    X, y_sog, y_goals,\n",
    "    test_size=0.2, random_state=42\n",
    ")\n",
    "\n",
    "HTML('<img src=\"https://media.giphy.com/media/EldfH1VJdbrwY/giphy.gif\" height=\"100\" width=\"100\">')"
   ]
  },
  {
   "cell_type": "code",
   "execution_count": 29,
   "metadata": {
    "slideshow": {
     "slide_type": "fragment"
    }
   },
   "outputs": [],
   "source": [
    "Z_train = mapper.fit_transform(X_train)\n",
    "Z_test = mapper.transform(X_test)"
   ]
  },
  {
   "cell_type": "code",
   "execution_count": 30,
   "metadata": {
    "slideshow": {
     "slide_type": "slide"
    }
   },
   "outputs": [],
   "source": [
    "from tensorflow.keras import layers, Input, Model\n",
    "from tensorflow.keras.layers import Dense, Dropout"
   ]
  },
  {
   "cell_type": "markdown",
   "metadata": {
    "slideshow": {
     "slide_type": "fragment"
    }
   },
   "source": [
    "<div align=\"center\">\n",
    "    <img src=\"images/network.png\" height=\"400\" width=\"400\">\n",
    "</div>"
   ]
  },
  {
   "cell_type": "markdown",
   "metadata": {
    "slideshow": {
     "slide_type": "fragment"
    }
   },
   "source": [
    "<div align=\"center\">\n",
    "    <img src=\"https://media.giphy.com/media/LAdk84Ns5vzuo/giphy.gif\" height=\"250\" width=\"250\">\n",
    "</div>"
   ]
  },
  {
   "cell_type": "code",
   "execution_count": 41,
   "metadata": {
    "slideshow": {
     "slide_type": "slide"
    }
   },
   "outputs": [],
   "source": [
    "data_input = Input(shape=(Z_train.shape[1],), dtype='float64', name='last_season')\n",
    "\n",
    "x = Dense(200, activation='relu')(data_input)\n",
    "x = Dense(200, activation='relu')(x)\n",
    "x = Dropout(0.25)(x)\n",
    "x = Dense(100, activation='relu')(x)\n",
    "\n",
    "goals_prediction = Dense(1, name='goals')(x)\n",
    "sog_prediction = Dense(1, name='shots_on_goal')(x)\n",
    "model = Model(data_input, [goals_prediction, sog_prediction])"
   ]
  },
  {
   "cell_type": "code",
   "execution_count": 32,
   "metadata": {
    "slideshow": {
     "slide_type": "slide"
    }
   },
   "outputs": [
    {
     "data": {
      "image/png": "[encoded data removed]",
      "text/plain": [
       "<IPython.core.display.Image object>"
      ]
     },
     "execution_count": 32,
     "metadata": {},
     "output_type": "execute_result"
    }
   ],
   "source": [
    "from tensorflow.keras.utils import plot_model\n",
    "\n",
    "plot_model(model)"
   ]
  },
  {
   "cell_type": "code",
   "execution_count": 42,
   "metadata": {
    "slideshow": {
     "slide_type": "slide"
    }
   },
   "outputs": [
    {
     "name": "stdout",
     "output_type": "stream",
     "text": [
      "Epoch 1/10\n",
      "2874/2874 [==============================] - 3s 942us/sample - loss: 1612.8311 - goals_loss: 120.5464 - shots_on_goal_loss: 4073.6589\n",
      "Epoch 2/10\n",
      "2874/2874 [==============================] - 2s 815us/sample - loss: 977.9069 - goals_loss: 65.1779 - shots_on_goal_loss: 3261.2793\n",
      "Epoch 3/10\n",
      "2874/2874 [==============================] - 2s 815us/sample - loss: 913.9532 - goals_loss: 59.4364 - shots_on_goal_loss: 3195.8928\n",
      "Epoch 4/10\n",
      "2874/2874 [==============================] - 2s 816us/sample - loss: 843.5828 - goals_loss: 54.6551 - shots_on_goal_loss: 2970.3181\n",
      "Epoch 5/10\n",
      "2874/2874 [==============================] - 2s 844us/sample - loss: 806.2263 - goals_loss: 52.0056 - shots_on_goal_loss: 2861.6997\n",
      "Epoch 6/10\n",
      "2874/2874 [==============================] - 2s 827us/sample - loss: 797.4674 - goals_loss: 52.0536 - shots_on_goal_loss: 2769.3137\n",
      "Epoch 7/10\n",
      "2874/2874 [==============================] - 2s 823us/sample - loss: 756.1912 - goals_loss: 48.9705 - shots_on_goal_loss: 2664.8567\n",
      "Epoch 8/10\n",
      "2874/2874 [==============================] - 2s 843us/sample - loss: 746.0853 - goals_loss: 48.3620 - shots_on_goal_loss: 2624.6582\n",
      "Epoch 9/10\n",
      "2874/2874 [==============================] - 2s 830us/sample - loss: 729.1439 - goals_loss: 46.5388 - shots_on_goal_loss: 2637.5615\n",
      "Epoch 10/10\n",
      "2874/2874 [==============================] - 2s 829us/sample - loss: 725.2198 - goals_loss: 46.7355 - shots_on_goal_loss: 2578.6418\n"
     ]
    },
    {
     "data": {
      "text/plain": [
       "<tensorflow.python.keras.callbacks.History at 0x1a36827b70>"
      ]
     },
     "execution_count": 42,
     "metadata": {},
     "output_type": "execute_result"
    }
   ],
   "source": [
    "model.compile(\n",
    "    optimizer='Nadam',\n",
    "    loss={'goals': 'mse', 'shots_on_goal': 'mse'},\n",
    "    loss_weights={'goals': 10, 'shots_on_goal': 1 / 10},\n",
    ")\n",
    "model.fit(Z_train, [y_goals_train, y_sog_train], epochs=10, batch_size=2)"
   ]
  },
  {
   "cell_type": "code",
   "execution_count": 43,
   "metadata": {
    "slideshow": {
     "slide_type": "slide"
    }
   },
   "outputs": [
    {
     "data": {
      "text/plain": [
       "{'position': ['LW'],\n",
       " 'age': [25.0],\n",
       " 'goals': [17],\n",
       " 'assists': [35],\n",
       " 'plus_minus': [8],\n",
       " 'shots_on_goal': [162],\n",
       " 'blocks': [66.0],\n",
       " 'hits': [141.0]}"
      ]
     },
     "execution_count": 43,
     "metadata": {},
     "output_type": "execute_result"
    }
   ],
   "source": [
    "X_test.sample(1).to_dict(orient='list')"
   ]
  },
  {
   "cell_type": "code",
   "execution_count": 44,
   "metadata": {
    "slideshow": {
     "slide_type": "slide"
    }
   },
   "outputs": [
    {
     "data": {
      "text/plain": [
       "[array([[12.88187295]]), array([[129.47075138]])]"
      ]
     },
     "execution_count": 44,
     "metadata": {},
     "output_type": "execute_result"
    }
   ],
   "source": [
    "X_new = pd.DataFrame({\n",
    "    'position': ['C'],\n",
    "    'age': [29.0],\n",
    "    'goals': [19],\n",
    "    'assists': [21],\n",
    "    'plus_minus': [2],\n",
    "    'shots_on_goal': [155],\n",
    "    'blocks': [47.0],\n",
    "    'hits': [255.0]\n",
    "})\n",
    "Z_new = mapper.transform(X_new)\n",
    "model.predict(Z_new)"
   ]
  },
  {
   "cell_type": "code",
   "execution_count": 46,
   "metadata": {
    "slideshow": {
     "slide_type": "slide"
    }
   },
   "outputs": [
    {
     "name": "stdout",
     "output_type": "stream",
     "text": [
      "0.5575444059472623\n",
      "0.5257034809003149\n"
     ]
    }
   ],
   "source": [
    "y_hat_goals = model.predict(Z_test)[0][:, 0]\n",
    "y_hat_sog = model.predict(Z_test)[1][:, 0]\n",
    "\n",
    "preds = pd.DataFrame({\n",
    "    'goals': y_goals_test,\n",
    "    'goals_predicted': y_hat_goals,\n",
    "    'sog': y_sog_test,\n",
    "    'sog_predicted': y_hat_sog,\n",
    "})\n",
    "\n",
    "print(r2_score(preds['goals'], preds['goals_predicted']))\n",
    "print(r2_score(preds['sog'], preds['sog_predicted']))\n",
    "\n",
    "# HTML('<img src=\"https://media.giphy.com/media/l1J9O9elEvuRjMyXu/giphy.gif\" height=\"250\" width=\"250\">')"
   ]
  },
  {
   "cell_type": "markdown",
   "metadata": {
    "slideshow": {
     "slide_type": "slide"
    }
   },
   "source": [
    "<div align=\"center\">\n",
    "    <img src=\"https://media.giphy.com/media/Z7hAjvqppsuVG/giphy.gif\" height=\"500\" width=\"500\">\n",
    "</div>\n",
    "\n"
   ]
  },
  {
   "cell_type": "code",
   "execution_count": 89,
   "metadata": {
    "slideshow": {
     "slide_type": "slide"
    }
   },
   "outputs": [
    {
     "data": {
      "text/html": [
       "<table border=\"1\" class=\"dataframe table table-responsive table-striped table-bordered\">\n",
       "  <thead>\n",
       "    <tr style=\"text-align: right;\">\n",
       "      <th>name</th>\n",
       "      <th>position</th>\n",
       "      <th>adp</th>\n",
       "      <th>goals</th>\n",
       "      <th>assists</th>\n",
       "      <th>plus_minus</th>\n",
       "      <th>powerplay_points</th>\n",
       "      <th>shots_on_goal</th>\n",
       "      <th>hits</th>\n",
       "      <th>blocks</th>\n",
       "    </tr>\n",
       "  </thead>\n",
       "  <tbody>\n",
       "    <tr>\n",
       "      <td>Connor McDavid</td>\n",
       "      <td>C</td>\n",
       "      <td>1</td>\n",
       "      <td>40.2750</td>\n",
       "      <td>69.665000</td>\n",
       "      <td>13.217500</td>\n",
       "      <td>19.75</td>\n",
       "      <td>208.250000</td>\n",
       "      <td>15.0</td>\n",
       "      <td>17.750000</td>\n",
       "    </tr>\n",
       "    <tr>\n",
       "      <td>Nikita Kucherov</td>\n",
       "      <td>RW</td>\n",
       "      <td>2</td>\n",
       "      <td>41.5150</td>\n",
       "      <td>56.670000</td>\n",
       "      <td>17.495000</td>\n",
       "      <td>28.50</td>\n",
       "      <td>214.750000</td>\n",
       "      <td>20.0</td>\n",
       "      <td>10.500000</td>\n",
       "    </tr>\n",
       "    <tr>\n",
       "      <td>Alex Ovechkin</td>\n",
       "      <td>LW</td>\n",
       "      <td>3</td>\n",
       "      <td>50.2300</td>\n",
       "      <td>39.236667</td>\n",
       "      <td>17.126667</td>\n",
       "      <td>21.00</td>\n",
       "      <td>245.666667</td>\n",
       "      <td>65.0</td>\n",
       "      <td>9.333333</td>\n",
       "    </tr>\n",
       "    <tr>\n",
       "      <td>Sidney Crosby</td>\n",
       "      <td>C</td>\n",
       "      <td>4</td>\n",
       "      <td>35.7775</td>\n",
       "      <td>62.445000</td>\n",
       "      <td>14.142500</td>\n",
       "      <td>28.75</td>\n",
       "      <td>197.500000</td>\n",
       "      <td>34.0</td>\n",
       "      <td>15.750000</td>\n",
       "    </tr>\n",
       "    <tr>\n",
       "      <td>Brad Marchand</td>\n",
       "      <td>LW</td>\n",
       "      <td>5</td>\n",
       "      <td>38.3900</td>\n",
       "      <td>52.975000</td>\n",
       "      <td>19.537500</td>\n",
       "      <td>20.00</td>\n",
       "      <td>174.250000</td>\n",
       "      <td>25.0</td>\n",
       "      <td>15.750000</td>\n",
       "    </tr>\n",
       "  </tbody>\n",
       "</table>"
      ],
      "text/plain": [
       "<IPython.core.display.HTML object>"
      ]
     },
     "execution_count": 89,
     "metadata": {},
     "output_type": "execute_result"
    }
   ],
   "source": [
    "df = pd.read_csv('data/draft.csv')\n",
    "display(df.iloc[:, :10].head())"
   ]
  },
  {
   "cell_type": "markdown",
   "metadata": {
    "slideshow": {
     "slide_type": "slide"
    }
   },
   "source": [
    "<div align=\"center\">\n",
    "    <img src=\"images/nhl_blotto.png\" height=\"500\" width=\"800\">\n",
    "</div>"
   ]
  },
  {
   "cell_type": "markdown",
   "metadata": {
    "slideshow": {
     "slide_type": "fragment"
    }
   },
   "source": [
    "<div align=\"center\">\n",
    "    <img src=\"images/nhl_blotto_2b.png\" height=\"500\" width=\"800\">\n",
    "</div>"
   ]
  },
  {
   "cell_type": "code",
   "execution_count": 90,
   "metadata": {
    "slideshow": {
     "slide_type": "slide"
    }
   },
   "outputs": [],
   "source": [
    "categories = [\n",
    "    'goals',\n",
    "    'assists',\n",
    "    'plus_minus',\n",
    "    'powerplay_points',\n",
    "    'shots_on_goal',\n",
    "    'hits',\n",
    "    'blocks',\n",
    "    'wins',\n",
    "    'goals_against_average',\n",
    "    'saves',\n",
    "    'save_percentage',\n",
    "    'shutouts'\n",
    "]\n",
    "\n",
    "y = df['adp']\n",
    "X = df[['position'] + categories]"
   ]
  },
  {
   "cell_type": "code",
   "execution_count": 92,
   "metadata": {
    "slideshow": {
     "slide_type": "slide"
    }
   },
   "outputs": [],
   "source": [
    "X_train, X_test, y_train, y_test = train_test_split(\n",
    "    X, y, test_size=0.20, random_state=5)"
   ]
  },
  {
   "cell_type": "code",
   "execution_count": 93,
   "metadata": {
    "slideshow": {
     "slide_type": "slide"
    }
   },
   "outputs": [],
   "source": [
    "from sklearn.preprocessing import StandardScaler\n",
    "\n",
    "mapper = DataFrameMapper([\n",
    "    (['position'], LabelBinarizer()),\n",
    "    (['goals'], StandardScaler()),\n",
    "    (['assists'], StandardScaler()),\n",
    "    (['plus_minus'], StandardScaler()),\n",
    "    (['powerplay_points'], StandardScaler()),\n",
    "    (['shots_on_goal'], StandardScaler()),\n",
    "    (['hits'], StandardScaler()),\n",
    "    (['blocks'], StandardScaler()),\n",
    "    (['wins'], StandardScaler()),\n",
    "    (['goals_against_average'], StandardScaler()),\n",
    "    (['saves'], StandardScaler()),\n",
    "    (['save_percentage'], StandardScaler()),\n",
    "    (['shutouts'], StandardScaler())])"
   ]
  },
  {
   "cell_type": "code",
   "execution_count": 94,
   "metadata": {
    "slideshow": {
     "slide_type": "slide"
    }
   },
   "outputs": [],
   "source": [
    "Z_train = mapper.fit_transform(X_train)\n",
    "Z_test = mapper.transform(X_test)"
   ]
  },
  {
   "cell_type": "code",
   "execution_count": 95,
   "metadata": {
    "slideshow": {
     "slide_type": "slide"
    }
   },
   "outputs": [
    {
     "data": {
      "text/plain": [
       "array([ 48.41389296,  55.63518889, -11.75859152,  40.77822351,\n",
       "       137.50479356, 170.48747709,  89.30467878,  64.04388235,\n",
       "        94.40890631,  62.47600084])"
      ]
     },
     "execution_count": 95,
     "metadata": {},
     "output_type": "execute_result"
    }
   ],
   "source": [
    "model = LinearRegression()\n",
    "model.fit(Z_train, y_train)\n",
    "model.predict(Z_test)[:10]"
   ]
  },
  {
   "cell_type": "markdown",
   "metadata": {
    "slideshow": {
     "slide_type": "fragment"
    }
   },
   "source": [
    "<div align=\"center\">\n",
    "    <img src=\"https://media.giphy.com/media/14vK3Sc3zepWM0/giphy.gif\" height=\"300\" width=\"300\">\n",
    "</div>"
   ]
  },
  {
   "cell_type": "markdown",
   "metadata": {
    "slideshow": {
     "slide_type": "slide"
    }
   },
   "source": [
    "<div align=\"center\">\n",
    "    <h1>Ordinal Regression</h1>\n",
    "</div>"
   ]
  },
  {
   "cell_type": "code",
   "execution_count": 96,
   "metadata": {
    "slideshow": {
     "slide_type": "slide"
    }
   },
   "outputs": [],
   "source": [
    "#!pip install mord\n",
    "from mord import OrdinalRidge\n",
    "\n",
    "model = OrdinalRidge(fit_intercept=False)"
   ]
  },
  {
   "cell_type": "code",
   "execution_count": 97,
   "metadata": {
    "slideshow": {
     "slide_type": "fragment"
    }
   },
   "outputs": [
    {
     "data": {
      "text/plain": [
       "OrdinalRidge(alpha=1.0, copy_X=True, fit_intercept=False, max_iter=None,\n",
       "       normalize=False, random_state=None, solver='auto', tol=0.001)"
      ]
     },
     "execution_count": 97,
     "metadata": {},
     "output_type": "execute_result"
    }
   ],
   "source": [
    "model.fit(Z_train, y_train)"
   ]
  },
  {
   "cell_type": "code",
   "execution_count": 98,
   "metadata": {
    "slideshow": {
     "slide_type": "fragment"
    }
   },
   "outputs": [
    {
     "data": {
      "text/plain": [
       "array([ 48.,  54.,   1.,  37., 134., 164.,  81.,  63.,  87.,  65.])"
      ]
     },
     "execution_count": 98,
     "metadata": {},
     "output_type": "execute_result"
    }
   ],
   "source": [
    "model.predict(Z_test)[:10] + 1"
   ]
  },
  {
   "cell_type": "code",
   "execution_count": 100,
   "metadata": {
    "slideshow": {
     "slide_type": "slide"
    }
   },
   "outputs": [
    {
     "data": {
      "image/png": "[encoded data removed]",
      "text/plain": [
       "<Figure size 432x288 with 1 Axes>"
      ]
     },
     "metadata": {
      "needs_background": "light"
     },
     "output_type": "display_data"
    }
   ],
   "source": [
    "compare = pd.DataFrame({\n",
    "    'y': y_test, 'yhat': model.predict(Z_test) + 1})\n",
    "\n",
    "plt.scatter(compare.y, compare.yhat)\n",
    "plt.plot([0, 200], [0, 200], c='r');"
   ]
  },
  {
   "cell_type": "code",
   "execution_count": 101,
   "metadata": {
    "slideshow": {
     "slide_type": "fragment"
    }
   },
   "outputs": [
    {
     "data": {
      "text/plain": [
       "0.7472513693545548"
      ]
     },
     "execution_count": 101,
     "metadata": {},
     "output_type": "execute_result"
    }
   ],
   "source": [
    "r2_score(compare.y, compare.yhat)"
   ]
  },
  {
   "cell_type": "code",
   "execution_count": 103,
   "metadata": {
    "slideshow": {
     "slide_type": "slide"
    }
   },
   "outputs": [
    {
     "data": {
      "text/html": [
       "<table border=\"1\" class=\"dataframe table table-responsive table-striped table-bordered\">\n",
       "  <thead>\n",
       "    <tr style=\"text-align: right;\">\n",
       "      <th>feature</th>\n",
       "      <th>coef</th>\n",
       "    </tr>\n",
       "  </thead>\n",
       "  <tbody>\n",
       "    <tr>\n",
       "      <td>wins</td>\n",
       "      <td>-53.326332</td>\n",
       "    </tr>\n",
       "    <tr>\n",
       "      <td>assists</td>\n",
       "      <td>-43.783531</td>\n",
       "    </tr>\n",
       "    <tr>\n",
       "      <td>goals</td>\n",
       "      <td>-39.414865</td>\n",
       "    </tr>\n",
       "    <tr>\n",
       "      <td>shots_on_goal</td>\n",
       "      <td>-19.420086</td>\n",
       "    </tr>\n",
       "    <tr>\n",
       "      <td>goals_against_average</td>\n",
       "      <td>-12.000836</td>\n",
       "    </tr>\n",
       "    <tr>\n",
       "      <td>saves</td>\n",
       "      <td>-6.835524</td>\n",
       "    </tr>\n",
       "    <tr>\n",
       "      <td>save_percentage</td>\n",
       "      <td>-6.004746</td>\n",
       "    </tr>\n",
       "    <tr>\n",
       "      <td>hits</td>\n",
       "      <td>-5.807997</td>\n",
       "    </tr>\n",
       "    <tr>\n",
       "      <td>powerplay_points</td>\n",
       "      <td>-5.614948</td>\n",
       "    </tr>\n",
       "    <tr>\n",
       "      <td>plus_minus</td>\n",
       "      <td>-5.508739</td>\n",
       "    </tr>\n",
       "    <tr>\n",
       "      <td>shutouts</td>\n",
       "      <td>-5.069873</td>\n",
       "    </tr>\n",
       "    <tr>\n",
       "      <td>blocks</td>\n",
       "      <td>-2.146761</td>\n",
       "    </tr>\n",
       "  </tbody>\n",
       "</table>"
      ],
      "text/plain": [
       "<IPython.core.display.HTML object>"
      ]
     },
     "execution_count": 103,
     "metadata": {},
     "output_type": "execute_result"
    }
   ],
   "source": [
    "bias = pd.DataFrame({\n",
    "    'feature': mapper.transformed_names_,\n",
    "    'coef': model.coef_\n",
    "}).sort_values('coef')\n",
    "\n",
    "display(bias[~bias.feature.str.contains('position')])"
   ]
  },
  {
   "cell_type": "markdown",
   "metadata": {
    "slideshow": {
     "slide_type": "slide"
    }
   },
   "source": [
    "<div align=\"center\">\n",
    "    <img src=\"images/nhl_blotto_2.png\" height=\"500\" width=\"800\">\n",
    "</div>"
   ]
  },
  {
   "cell_type": "markdown",
   "metadata": {
    "slideshow": {
     "slide_type": "slide"
    }
   },
   "source": [
    "![](images/my_draft.png)"
   ]
  },
  {
   "cell_type": "markdown",
   "metadata": {
    "slideshow": {
     "slide_type": "slide"
    }
   },
   "source": [
    "<div align=\"center\">\n",
    "    <img src=\"images/results.png\" height=\"500\" width=\"500\">\n",
    "</div>"
   ]
  },
  {
   "cell_type": "code",
   "execution_count": null,
   "metadata": {
    "slideshow": {
     "slide_type": "slide"
    }
   },
   "outputs": [],
   "source": []
  },
  {
   "cell_type": "code",
   "execution_count": null,
   "metadata": {},
   "outputs": [],
   "source": []
  },
  {
   "cell_type": "code",
   "execution_count": null,
   "metadata": {},
   "outputs": [],
   "source": []
  },
  {
   "cell_type": "code",
   "execution_count": null,
   "metadata": {},
   "outputs": [],
   "source": []
  },
  {
   "cell_type": "markdown",
   "metadata": {
    "slideshow": {
     "slide_type": "slide"
    }
   },
   "source": [
    "![](https://media.giphy.com/media/lD76yTC5zxZPG/giphy.gif)"
   ]
  },
  {
   "cell_type": "markdown",
   "metadata": {
    "slideshow": {
     "slide_type": "slide"
    }
   },
   "source": [
    "<div align=\"center\">\n",
    "\n",
    "    twitter: @maxhumber\n",
    "    linkedin: /in/maxhumber\n",
    "    email: maxhumber@gmail.com\n",
    "\n",
    "</div>"
   ]
  }
 ],
 "metadata": {
  "celltoolbar": "Slideshow",
  "kernelspec": {
   "display_name": "Python 3",
   "language": "python",
   "name": "python3"
  },
  "language_info": {
   "codemirror_mode": {
    "name": "ipython",
    "version": 3
   },
   "file_extension": ".py",
   "mimetype": "text/x-python",
   "name": "python",
   "nbconvert_exporter": "python",
   "pygments_lexer": "ipython3",
   "version": "3.7.1"
  }
 },
 "nbformat": 4,
 "nbformat_minor": 2
}
